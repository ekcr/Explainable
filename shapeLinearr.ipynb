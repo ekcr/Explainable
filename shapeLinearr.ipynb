{
 "cells": [
  {
   "cell_type": "code",
   "execution_count": 4,
   "id": "7ad65c0d-5d89-47c0-9282-c58148054aeb",
   "metadata": {},
   "outputs": [],
   "source": [
    "import pandas as pd"
   ]
  },
  {
   "cell_type": "code",
   "execution_count": 5,
   "id": "d66702e3-348f-40a5-8e35-cf5bf6904ed8",
   "metadata": {},
   "outputs": [],
   "source": [
    "data = pd.read_csv('model_data.csv')"
   ]
  },
  {
   "cell_type": "code",
   "execution_count": 6,
   "id": "a058006b-c8b8-4674-82fe-83bc260a0f3e",
   "metadata": {},
   "outputs": [],
   "source": [
    "data=data.iloc[:,1:]"
   ]
  },
  {
   "cell_type": "code",
   "execution_count": 7,
   "id": "7a21d36a-e3a4-4eb4-a88d-46789aae8faf",
   "metadata": {},
   "outputs": [],
   "source": [
    "data.drop(['MINIMUM_SPEED','MAXIMUM_SPEED','AVERAGE_SPEED','DATE','M1','M2','M3','M1_P','M2_P','M3_P','distance'],axis=1,inplace=True)"
   ]
  },
  {
   "cell_type": "code",
   "execution_count": 8,
   "id": "81043692-26de-4d78-adff-b638f984e851",
   "metadata": {},
   "outputs": [
    {
     "data": {
      "text/html": [
       "<div>\n",
       "<style scoped>\n",
       "    .dataframe tbody tr th:only-of-type {\n",
       "        vertical-align: middle;\n",
       "    }\n",
       "\n",
       "    .dataframe tbody tr th {\n",
       "        vertical-align: top;\n",
       "    }\n",
       "\n",
       "    .dataframe thead th {\n",
       "        text-align: right;\n",
       "    }\n",
       "</style>\n",
       "<table border=\"1\" class=\"dataframe\">\n",
       "  <thead>\n",
       "    <tr style=\"text-align: right;\">\n",
       "      <th></th>\n",
       "      <th>yogunluk</th>\n",
       "    </tr>\n",
       "  </thead>\n",
       "  <tbody>\n",
       "    <tr>\n",
       "      <th>0</th>\n",
       "      <td>1.000000</td>\n",
       "    </tr>\n",
       "    <tr>\n",
       "      <th>1</th>\n",
       "      <td>1.000000</td>\n",
       "    </tr>\n",
       "    <tr>\n",
       "      <th>2</th>\n",
       "      <td>0.921039</td>\n",
       "    </tr>\n",
       "    <tr>\n",
       "      <th>3</th>\n",
       "      <td>0.998471</td>\n",
       "    </tr>\n",
       "    <tr>\n",
       "      <th>4</th>\n",
       "      <td>0.948718</td>\n",
       "    </tr>\n",
       "    <tr>\n",
       "      <th>...</th>\n",
       "      <td>...</td>\n",
       "    </tr>\n",
       "    <tr>\n",
       "      <th>749995</th>\n",
       "      <td>1.000000</td>\n",
       "    </tr>\n",
       "    <tr>\n",
       "      <th>749996</th>\n",
       "      <td>1.000000</td>\n",
       "    </tr>\n",
       "    <tr>\n",
       "      <th>749997</th>\n",
       "      <td>0.978780</td>\n",
       "    </tr>\n",
       "    <tr>\n",
       "      <th>749998</th>\n",
       "      <td>0.922692</td>\n",
       "    </tr>\n",
       "    <tr>\n",
       "      <th>749999</th>\n",
       "      <td>0.987210</td>\n",
       "    </tr>\n",
       "  </tbody>\n",
       "</table>\n",
       "<p>750000 rows × 1 columns</p>\n",
       "</div>"
      ],
      "text/plain": [
       "        yogunluk\n",
       "0       1.000000\n",
       "1       1.000000\n",
       "2       0.921039\n",
       "3       0.998471\n",
       "4       0.948718\n",
       "...          ...\n",
       "749995  1.000000\n",
       "749996  1.000000\n",
       "749997  0.978780\n",
       "749998  0.922692\n",
       "749999  0.987210\n",
       "\n",
       "[750000 rows x 1 columns]"
      ]
     },
     "execution_count": 8,
     "metadata": {},
     "output_type": "execute_result"
    }
   ],
   "source": [
    "Y = data.iloc[:,41:42]\n",
    "Y"
   ]
  },
  {
   "cell_type": "code",
   "execution_count": 9,
   "id": "4b644402-8730-4af7-8e8c-b5ef7bc9328e",
   "metadata": {},
   "outputs": [
    {
     "name": "stdout",
     "output_type": "stream",
     "text": [
      "<class 'pandas.core.frame.DataFrame'>\n",
      "RangeIndex: 750000 entries, 0 to 749999\n",
      "Data columns (total 46 columns):\n",
      " #   Column               Non-Null Count   Dtype  \n",
      "---  ------               --------------   -----  \n",
      " 0   Friday               750000 non-null  float64\n",
      " 1   Monday               750000 non-null  float64\n",
      " 2   Saturday             750000 non-null  float64\n",
      " 3   Sunday               750000 non-null  float64\n",
      " 4   Thursday             750000 non-null  float64\n",
      " 5   Tuesday              750000 non-null  float64\n",
      " 6   Wednesday            750000 non-null  float64\n",
      " 7   April                750000 non-null  float64\n",
      " 8   August               750000 non-null  float64\n",
      " 9   December             750000 non-null  float64\n",
      " 10  February             750000 non-null  float64\n",
      " 11  January              750000 non-null  float64\n",
      " 12  July                 750000 non-null  float64\n",
      " 13  June                 750000 non-null  float64\n",
      " 14  March                750000 non-null  float64\n",
      " 15  May                  750000 non-null  float64\n",
      " 16  November             750000 non-null  float64\n",
      " 17  October              750000 non-null  float64\n",
      " 18  September            750000 non-null  float64\n",
      " 19  06                   750000 non-null  float64\n",
      " 20  07                   750000 non-null  float64\n",
      " 21  08                   750000 non-null  float64\n",
      " 22  09                   750000 non-null  float64\n",
      " 23  10                   750000 non-null  float64\n",
      " 24  11                   750000 non-null  float64\n",
      " 25  12                   750000 non-null  float64\n",
      " 26  13                   750000 non-null  float64\n",
      " 27  14                   750000 non-null  float64\n",
      " 28  15                   750000 non-null  float64\n",
      " 29  16                   750000 non-null  float64\n",
      " 30  17                   750000 non-null  float64\n",
      " 31  18                   750000 non-null  float64\n",
      " 32  19                   750000 non-null  float64\n",
      " 33  20                   750000 non-null  float64\n",
      " 34  21                   750000 non-null  float64\n",
      " 35  22                   750000 non-null  float64\n",
      " 36  23                   750000 non-null  float64\n",
      " 37  NUMBER_OF_PASSENGER  750000 non-null  float64\n",
      " 38  YAGISSIZ             750000 non-null  float64\n",
      " 39  HAFİF YAGIS          750000 non-null  float64\n",
      " 40  SİDDETLİ YAGIS       750000 non-null  float64\n",
      " 41  mac                  750000 non-null  float64\n",
      " 42  derbi                750000 non-null  float64\n",
      " 43  RELIGIOUS_HOLIDAY    750000 non-null  float64\n",
      " 44  OFFICAL_HOLIDAY      750000 non-null  float64\n",
      " 45  NUMBER_OF_VEHICLES   750000 non-null  int64  \n",
      "dtypes: float64(45), int64(1)\n",
      "memory usage: 263.2 MB\n"
     ]
    }
   ],
   "source": [
    "X = data.drop(['yogunluk'],axis=1)\n",
    "X.info()"
   ]
  },
  {
   "cell_type": "code",
   "execution_count": 10,
   "id": "589247e0-e0a9-4fc2-b9e8-5c2231854bdc",
   "metadata": {},
   "outputs": [],
   "source": [
    "from sklearn.model_selection import train_test_split\n",
    "\n",
    "X_train, X_test, Y_train, Y_test = train_test_split(X, Y,  test_size=0.2, random_state=7)"
   ]
  },
  {
   "cell_type": "code",
   "execution_count": 11,
   "id": "f8ffcb0b-848a-44d9-adc6-5f5ae0a5e6ce",
   "metadata": {},
   "outputs": [
    {
     "data": {
      "text/plain": [
       "LinearRegression(copy_X=True, fit_intercept=True, n_jobs=None, normalize=False)"
      ]
     },
     "execution_count": 11,
     "metadata": {},
     "output_type": "execute_result"
    }
   ],
   "source": [
    "from sklearn.linear_model import LinearRegression\n",
    "\n",
    "model = LinearRegression()\n",
    "model.fit(X_train, Y_train)\n"
   ]
  },
  {
   "cell_type": "code",
   "execution_count": 12,
   "id": "1a6a6239-827d-41fc-8bdb-e019226ab200",
   "metadata": {},
   "outputs": [],
   "source": [
    "y_predict_yagıslı = model.predict(X_test[X_test['SİDDETLİ YAGIS']==1.0])\n",
    "y_predict_yagıssız = model.predict(X_test[X_test['YAGISSIZ']==1.0])"
   ]
  },
  {
   "cell_type": "code",
   "execution_count": 13,
   "id": "ab51a2b8-f50e-47dc-b28e-a1ada93449e0",
   "metadata": {},
   "outputs": [],
   "source": [
    "idx= X_test[X_test['SİDDETLİ YAGIS']==1.0].index\n",
    "idx2= X_test[X_test['YAGISSIZ']==1.0].index"
   ]
  },
  {
   "cell_type": "code",
   "execution_count": 14,
   "id": "5daefa8b-0b75-4f3d-8ede-32956b06aa28",
   "metadata": {},
   "outputs": [],
   "source": [
    "ytest_yagıslı = Y_test[Y_test.index.isin(idx)]\n",
    "ytest_yagıssız =Y_test[Y_test.index.isin(idx2)]"
   ]
  },
  {
   "cell_type": "code",
   "execution_count": 15,
   "id": "68575f9a-c28c-47f7-bb96-31b01e80acd5",
   "metadata": {},
   "outputs": [],
   "source": [
    "X_train_yagıs = X_train[X_train['SİDDETLİ YAGIS']==1.0]\n",
    "X_train_yagıssız = (X_train[X_train['YAGISSIZ']==1.0])"
   ]
  },
  {
   "cell_type": "code",
   "execution_count": 16,
   "id": "cac10fbd-6c05-4472-b14d-e83de769b68c",
   "metadata": {},
   "outputs": [],
   "source": [
    "X_test_yagıs = X_test[X_test['SİDDETLİ YAGIS']==1.0]\n",
    "X_test_yagıssız = (X_test[X_test['YAGISSIZ']==1.0])"
   ]
  },
  {
   "cell_type": "code",
   "execution_count": 17,
   "id": "539b115c-a41d-4a6c-a8df-d462ae779837",
   "metadata": {},
   "outputs": [],
   "source": [
    "idx3= X_train[X_train['SİDDETLİ YAGIS']==1.0].index\n",
    "idx4= X_train[X_train['YAGISSIZ']==1.0].index"
   ]
  },
  {
   "cell_type": "code",
   "execution_count": 18,
   "id": "4db79609-2799-4ce9-9949-3a6fcafe5041",
   "metadata": {},
   "outputs": [],
   "source": [
    "ytrain_yagıslı = Y_train[Y_train.index.isin(idx3)]\n",
    "ytrain_yagıssız =Y_train[Y_train.index.isin(idx4)]"
   ]
  },
  {
   "cell_type": "code",
   "execution_count": 19,
   "id": "a247a4ae-fb83-47da-9967-ccd9dab8f582",
   "metadata": {},
   "outputs": [
    {
     "name": "stdout",
     "output_type": "stream",
     "text": [
      "Test  R^2 Score :  0.09799922765041447\n"
     ]
    }
   ],
   "source": [
    "print(\"Test  R^2 Score : \", model.score(X_test_yagıs, ytest_yagıslı))"
   ]
  },
  {
   "cell_type": "code",
   "execution_count": 20,
   "id": "0d53ee3e-b4a0-42c4-9b4b-b3be0429eb75",
   "metadata": {},
   "outputs": [
    {
     "name": "stdout",
     "output_type": "stream",
     "text": [
      "Train R^2 Score :  0.16753680804937698\n"
     ]
    }
   ],
   "source": [
    "print(\"Train R^2 Score : \", model.score(X_train_yagıssız, ytrain_yagıssız))"
   ]
  },
  {
   "cell_type": "code",
   "execution_count": 21,
   "id": "05a376d2-e6bc-4cb6-ad8c-3677b133550e",
   "metadata": {},
   "outputs": [],
   "source": [
    "import shap\n",
    "lin_reg_explainer1 = shap.LinearExplainer(model, X_train_yagıs)"
   ]
  },
  {
   "cell_type": "code",
   "execution_count": 22,
   "id": "c5436366-7b7b-4cb4-9ecd-e7c6458ec6d1",
   "metadata": {},
   "outputs": [],
   "source": [
    "shap_values_yagıslı = lin_reg_explainer1.shap_values(X_train_yagıs)"
   ]
  },
  {
   "cell_type": "code",
   "execution_count": 23,
   "id": "ae0a87d9-c749-40df-a95a-cb52e8fa9c9c",
   "metadata": {},
   "outputs": [
    {
     "data": {
      "text/plain": [
       "array([[-1.75210726e+00,  2.27666028e-01,  1.36263033e-01, ...,\n",
       "         0.00000000e+00,  3.20351288e-04, -5.80908054e-06],\n",
       "       [ 5.23356713e-01, -2.04899425e+00,  1.36263033e-01, ...,\n",
       "         0.00000000e+00,  3.20351288e-04,  1.58989932e-05],\n",
       "       [ 5.23356713e-01,  2.27666028e-01,  1.36263033e-01, ...,\n",
       "         0.00000000e+00,  3.20351288e-04,  2.06747694e-05],\n",
       "       ...,\n",
       "       [ 5.23356713e-01,  2.27666028e-01,  1.36263033e-01, ...,\n",
       "         0.00000000e+00,  3.20351288e-04,  1.37281858e-05],\n",
       "       [-1.75210726e+00,  2.27666028e-01,  1.36263033e-01, ...,\n",
       "         0.00000000e+00,  3.20351288e-04,  3.30831044e-06],\n",
       "       [ 5.23356713e-01, -2.04899425e+00,  1.36263033e-01, ...,\n",
       "         0.00000000e+00,  3.20351288e-04,  1.58989932e-05]])"
      ]
     },
     "execution_count": 23,
     "metadata": {},
     "output_type": "execute_result"
    }
   ],
   "source": [
    "shap_values_yagıslı"
   ]
  },
  {
   "cell_type": "code",
   "execution_count": 24,
   "id": "804c0b64-0073-45d7-9c5b-5b2775d11ad7",
   "metadata": {},
   "outputs": [
    {
     "data": {
      "image/png": "[encoded data removed]",
      "text/plain": [
       "<Figure size 576x684 with 2 Axes>"
      ]
     },
     "metadata": {
      "needs_background": "light"
     },
     "output_type": "display_data"
    }
   ],
   "source": [
    "shap.summary_plot(shap_values_yagıslı, X_train_yagıs)"
   ]
  },
  {
   "cell_type": "code",
   "execution_count": 25,
   "id": "bc3ef963-6752-47b5-9eec-2f4cb56c720d",
   "metadata": {},
   "outputs": [],
   "source": [
    "lin_reg_explainer2 = shap.LinearExplainer(model, X_train_yagıssız)"
   ]
  },
  {
   "cell_type": "code",
   "execution_count": 26,
   "id": "cfa403f5-0aa2-4a0d-97e3-5544118fbdc8",
   "metadata": {},
   "outputs": [],
   "source": [
    "shap_values_yagıssız = lin_reg_explainer2.shap_values(X_train_yagıssız)"
   ]
  },
  {
   "cell_type": "code",
   "execution_count": 26,
   "id": "19725463-a8e5-4c1d-9960-f7da329ba981",
   "metadata": {},
   "outputs": [
    {
     "data": {
      "image/png": "[encoded data removed]",
      "text/plain": [
       "<Figure size 576x684 with 2 Axes>"
      ]
     },
     "metadata": {
      "needs_background": "light"
     },
     "output_type": "display_data"
    }
   ],
   "source": [
    "shap.summary_plot(shap_values_yagıssız, X_train_yagıssız)"
   ]
  },
  {
   "cell_type": "code",
   "execution_count": 27,
   "id": "a98fa151-ce52-475f-9904-3e1dce35728f",
   "metadata": {},
   "outputs": [
    {
     "data": {
      "text/plain": [
       "(array([ 12.,   0.,  12.,   9.,   7.,   4.,  12.,  30.,  12.,   3.,  13.,\n",
       "          7.,   8.,   6.,   9.,  27.,  20.,  34., 199.,  50.,  56.,  99.,\n",
       "         90., 167., 295., 492., 182., 685., 458., 612., 834., 472., 347.,\n",
       "        344., 351., 174., 264.,  86.,   0.,   0.,   1.,   0.,   0.,   0.,\n",
       "          0.,   0.,   0.,   0.,   0.,   0.,   0.,   1.,   0.,   1.,   0.,\n",
       "          1.,   2.,   0.,   4.,   7.]),\n",
       " array([0.90832517, 0.91010672, 0.91188828, 0.91366983, 0.91545139,\n",
       "        0.91723294, 0.9190145 , 0.92079605, 0.92257761, 0.92435916,\n",
       "        0.92614072, 0.92792227, 0.92970383, 0.93148538, 0.93326694,\n",
       "        0.93504849, 0.93683005, 0.9386116 , 0.94039316, 0.94217471,\n",
       "        0.94395627, 0.94573782, 0.94751938, 0.94930093, 0.95108249,\n",
       "        0.95286404, 0.9546456 , 0.95642715, 0.95820871, 0.95999026,\n",
       "        0.96177182, 0.96355337, 0.96533493, 0.96711648, 0.96889804,\n",
       "        0.97067959, 0.97246115, 0.9742427 , 0.97602426, 0.97780581,\n",
       "        0.97958737, 0.98136892, 0.98315048, 0.98493203, 0.98671359,\n",
       "        0.98849514, 0.9902767 , 0.99205825, 0.99383981, 0.99562136,\n",
       "        0.99740292, 0.99918447, 1.00096603, 1.00274758, 1.00452914,\n",
       "        1.00631069, 1.00809224, 1.0098738 , 1.01165535, 1.01343691,\n",
       "        1.01521846]),\n",
       " <BarContainer object of 60 artists>)"
      ]
     },
     "execution_count": 27,
     "metadata": {},
     "output_type": "execute_result"
    },
    {
     "data": {
      "image/png": "[encoded data removed]",
      "text/plain": [
       "<Figure size 432x288 with 1 Axes>"
      ]
     },
     "metadata": {
      "needs_background": "light"
     },
     "output_type": "display_data"
    }
   ],
   "source": [
    "import matplotlib.mlab as mlab\n",
    "import matplotlib.pyplot as plt\n",
    "\n",
    "plt.hist(y_predict_yagıslı,bins=60)"
   ]
  },
  {
   "cell_type": "code",
   "execution_count": 28,
   "id": "8c3d8b27-f5e1-4695-988b-0e0368730ff8",
   "metadata": {},
   "outputs": [
    {
     "data": {
      "text/plain": [
       "(array([1.7000e+01, 9.0000e+00, 1.3000e+01, 0.0000e+00, 0.0000e+00,\n",
       "        5.0000e+00, 1.4000e+01, 1.1000e+01, 1.5000e+01, 5.0000e+00,\n",
       "        9.0000e+00, 2.0000e+01, 2.0000e+01, 1.9000e+01, 2.3000e+01,\n",
       "        1.9000e+01, 5.3000e+01, 3.1000e+01, 2.7000e+01, 2.5000e+01,\n",
       "        4.6000e+01, 4.8000e+01, 1.7000e+01, 2.7000e+01, 3.8000e+01,\n",
       "        4.7000e+01, 7.3000e+01, 6.9000e+01, 1.2100e+02, 1.8000e+02,\n",
       "        2.6200e+02, 3.4200e+02, 4.5900e+02, 3.4600e+02, 3.8900e+02,\n",
       "        4.6500e+02, 7.5900e+02, 1.7780e+03, 1.8120e+03, 5.4660e+03,\n",
       "        1.3895e+04, 8.9060e+03, 9.2710e+03, 1.1790e+04, 9.8160e+03,\n",
       "        9.2270e+03, 6.7740e+03, 5.8120e+03, 5.5270e+03, 1.0248e+04,\n",
       "        9.9290e+03, 4.9410e+03, 2.8420e+03, 2.2940e+03, 1.7980e+03,\n",
       "        1.0310e+03, 5.7300e+02, 1.2460e+03, 1.2780e+03, 3.7100e+02]),\n",
       " array([0.80351106, 0.80714473, 0.8107784 , 0.81441207, 0.81804574,\n",
       "        0.82167941, 0.82531308, 0.82894674, 0.83258041, 0.83621408,\n",
       "        0.83984775, 0.84348142, 0.84711509, 0.85074876, 0.85438242,\n",
       "        0.85801609, 0.86164976, 0.86528343, 0.8689171 , 0.87255077,\n",
       "        0.87618444, 0.8798181 , 0.88345177, 0.88708544, 0.89071911,\n",
       "        0.89435278, 0.89798645, 0.90162012, 0.90525379, 0.90888745,\n",
       "        0.91252112, 0.91615479, 0.91978846, 0.92342213, 0.9270558 ,\n",
       "        0.93068947, 0.93432313, 0.9379568 , 0.94159047, 0.94522414,\n",
       "        0.94885781, 0.95249148, 0.95612515, 0.95975881, 0.96339248,\n",
       "        0.96702615, 0.97065982, 0.97429349, 0.97792716, 0.98156083,\n",
       "        0.9851945 , 0.98882816, 0.99246183, 0.9960955 , 0.99972917,\n",
       "        1.00336284, 1.00699651, 1.01063018, 1.01426384, 1.01789751,\n",
       "        1.02153118]),\n",
       " <BarContainer object of 60 artists>)"
      ]
     },
     "execution_count": 28,
     "metadata": {},
     "output_type": "execute_result"
    },
    {
     "data": {
      "image/png": "[encoded data removed]",
      "text/plain": [
       "<Figure size 432x288 with 1 Axes>"
      ]
     },
     "metadata": {
      "needs_background": "light"
     },
     "output_type": "display_data"
    }
   ],
   "source": [
    "plt.hist(y_predict_yagıssız ,bins=60)"
   ]
  },
  {
   "cell_type": "code",
   "execution_count": 29,
   "id": "3ad64d8f-6cb6-45e5-9634-a693c13ef24a",
   "metadata": {},
   "outputs": [
    {
     "data": {
      "text/html": [
       "<div>\n",
       "<style scoped>\n",
       "    .dataframe tbody tr th:only-of-type {\n",
       "        vertical-align: middle;\n",
       "    }\n",
       "\n",
       "    .dataframe tbody tr th {\n",
       "        vertical-align: top;\n",
       "    }\n",
       "\n",
       "    .dataframe thead th {\n",
       "        text-align: right;\n",
       "    }\n",
       "</style>\n",
       "<table border=\"1\" class=\"dataframe\">\n",
       "  <thead>\n",
       "    <tr style=\"text-align: right;\">\n",
       "      <th></th>\n",
       "      <th>0</th>\n",
       "    </tr>\n",
       "  </thead>\n",
       "  <tbody>\n",
       "    <tr>\n",
       "      <th>count</th>\n",
       "      <td>6499.000000</td>\n",
       "    </tr>\n",
       "    <tr>\n",
       "      <th>mean</th>\n",
       "      <td>0.959365</td>\n",
       "    </tr>\n",
       "    <tr>\n",
       "      <th>std</th>\n",
       "      <td>0.010085</td>\n",
       "    </tr>\n",
       "    <tr>\n",
       "      <th>min</th>\n",
       "      <td>0.908325</td>\n",
       "    </tr>\n",
       "    <tr>\n",
       "      <th>15%</th>\n",
       "      <td>0.951703</td>\n",
       "    </tr>\n",
       "    <tr>\n",
       "      <th>40%</th>\n",
       "      <td>0.958634</td>\n",
       "    </tr>\n",
       "    <tr>\n",
       "      <th>50%</th>\n",
       "      <td>0.960664</td>\n",
       "    </tr>\n",
       "    <tr>\n",
       "      <th>60%</th>\n",
       "      <td>0.962408</td>\n",
       "    </tr>\n",
       "    <tr>\n",
       "      <th>80%</th>\n",
       "      <td>0.966798</td>\n",
       "    </tr>\n",
       "    <tr>\n",
       "      <th>max</th>\n",
       "      <td>1.015218</td>\n",
       "    </tr>\n",
       "  </tbody>\n",
       "</table>\n",
       "</div>"
      ],
      "text/plain": [
       "                 0\n",
       "count  6499.000000\n",
       "mean      0.959365\n",
       "std       0.010085\n",
       "min       0.908325\n",
       "15%       0.951703\n",
       "40%       0.958634\n",
       "50%       0.960664\n",
       "60%       0.962408\n",
       "80%       0.966798\n",
       "max       1.015218"
      ]
     },
     "execution_count": 29,
     "metadata": {},
     "output_type": "execute_result"
    }
   ],
   "source": [
    "pred_yagıslı= pd.DataFrame(y_predict_yagıslı)\n",
    "\n",
    "pred_yagıslı.describe(percentiles=[0.15,0.40,0.60,0.80])"
   ]
  },
  {
   "cell_type": "code",
   "execution_count": 30,
   "id": "a8a30a3c-38ec-4107-8212-c13b836a3e94",
   "metadata": {},
   "outputs": [],
   "source": [
    "import numpy as np\n",
    "pred_yagıslı['categorical'] = np.nan\n",
    "pred_yagıslı= pred_yagıslı.rename(columns={0:'density'})"
   ]
  },
  {
   "cell_type": "code",
   "execution_count": 31,
   "id": "e99c4aa3-1a43-4913-9701-18ba4b94e754",
   "metadata": {},
   "outputs": [
    {
     "data": {
      "text/html": [
       "<div>\n",
       "<style scoped>\n",
       "    .dataframe tbody tr th:only-of-type {\n",
       "        vertical-align: middle;\n",
       "    }\n",
       "\n",
       "    .dataframe tbody tr th {\n",
       "        vertical-align: top;\n",
       "    }\n",
       "\n",
       "    .dataframe thead th {\n",
       "        text-align: right;\n",
       "    }\n",
       "</style>\n",
       "<table border=\"1\" class=\"dataframe\">\n",
       "  <thead>\n",
       "    <tr style=\"text-align: right;\">\n",
       "      <th></th>\n",
       "      <th>density</th>\n",
       "      <th>categorical</th>\n",
       "    </tr>\n",
       "  </thead>\n",
       "  <tbody>\n",
       "    <tr>\n",
       "      <th>0</th>\n",
       "      <td>0.963261</td>\n",
       "      <td>NaN</td>\n",
       "    </tr>\n",
       "    <tr>\n",
       "      <th>1</th>\n",
       "      <td>0.961608</td>\n",
       "      <td>NaN</td>\n",
       "    </tr>\n",
       "    <tr>\n",
       "      <th>2</th>\n",
       "      <td>0.952309</td>\n",
       "      <td>NaN</td>\n",
       "    </tr>\n",
       "    <tr>\n",
       "      <th>3</th>\n",
       "      <td>0.960664</td>\n",
       "      <td>NaN</td>\n",
       "    </tr>\n",
       "    <tr>\n",
       "      <th>4</th>\n",
       "      <td>0.970546</td>\n",
       "      <td>NaN</td>\n",
       "    </tr>\n",
       "    <tr>\n",
       "      <th>...</th>\n",
       "      <td>...</td>\n",
       "      <td>...</td>\n",
       "    </tr>\n",
       "    <tr>\n",
       "      <th>6494</th>\n",
       "      <td>0.962395</td>\n",
       "      <td>NaN</td>\n",
       "    </tr>\n",
       "    <tr>\n",
       "      <th>6495</th>\n",
       "      <td>0.967759</td>\n",
       "      <td>NaN</td>\n",
       "    </tr>\n",
       "    <tr>\n",
       "      <th>6496</th>\n",
       "      <td>0.960240</td>\n",
       "      <td>NaN</td>\n",
       "    </tr>\n",
       "    <tr>\n",
       "      <th>6497</th>\n",
       "      <td>0.958491</td>\n",
       "      <td>NaN</td>\n",
       "    </tr>\n",
       "    <tr>\n",
       "      <th>6498</th>\n",
       "      <td>0.909703</td>\n",
       "      <td>NaN</td>\n",
       "    </tr>\n",
       "  </tbody>\n",
       "</table>\n",
       "<p>6499 rows × 2 columns</p>\n",
       "</div>"
      ],
      "text/plain": [
       "       density  categorical\n",
       "0     0.963261          NaN\n",
       "1     0.961608          NaN\n",
       "2     0.952309          NaN\n",
       "3     0.960664          NaN\n",
       "4     0.970546          NaN\n",
       "...        ...          ...\n",
       "6494  0.962395          NaN\n",
       "6495  0.967759          NaN\n",
       "6496  0.960240          NaN\n",
       "6497  0.958491          NaN\n",
       "6498  0.909703          NaN\n",
       "\n",
       "[6499 rows x 2 columns]"
      ]
     },
     "execution_count": 31,
     "metadata": {},
     "output_type": "execute_result"
    }
   ],
   "source": [
    "pred_yagıslı"
   ]
  },
  {
   "cell_type": "code",
   "execution_count": 32,
   "id": "d329fc38-b941-4a15-a40a-bc7dac665e1d",
   "metadata": {},
   "outputs": [],
   "source": [
    "def freq_cate(x):\n",
    "    if x < 0.93:\n",
    "        x = 'AZ_YOGUN'\n",
    "        \n",
    "    elif 0.93 <= x < 0.965:\n",
    "        x = 'YOGUN'\n",
    "        \n",
    "    elif 0.965 <= x < 0.98:\n",
    "        x = 'COK_YOGUN'\n",
    "    \n",
    "    elif x > 0.98:\n",
    "        x = 'DOLU'\n",
    "\n",
    "    return x  \n",
    "\n",
    "\n",
    "pred_yagıslı['categorical'] = pred_yagıslı['density'].apply(lambda x : freq_cate(x))"
   ]
  },
  {
   "cell_type": "code",
   "execution_count": 33,
   "id": "3af11d7a-91dc-45ca-bcb1-7cfd7ce26280",
   "metadata": {},
   "outputs": [
    {
     "data": {
      "text/html": [
       "<div>\n",
       "<style scoped>\n",
       "    .dataframe tbody tr th:only-of-type {\n",
       "        vertical-align: middle;\n",
       "    }\n",
       "\n",
       "    .dataframe tbody tr th {\n",
       "        vertical-align: top;\n",
       "    }\n",
       "\n",
       "    .dataframe thead th {\n",
       "        text-align: right;\n",
       "    }\n",
       "</style>\n",
       "<table border=\"1\" class=\"dataframe\">\n",
       "  <thead>\n",
       "    <tr style=\"text-align: right;\">\n",
       "      <th></th>\n",
       "      <th>density</th>\n",
       "      <th>categorical</th>\n",
       "    </tr>\n",
       "  </thead>\n",
       "  <tbody>\n",
       "    <tr>\n",
       "      <th>0</th>\n",
       "      <td>0.963261</td>\n",
       "      <td>YOGUN</td>\n",
       "    </tr>\n",
       "    <tr>\n",
       "      <th>1</th>\n",
       "      <td>0.961608</td>\n",
       "      <td>YOGUN</td>\n",
       "    </tr>\n",
       "    <tr>\n",
       "      <th>2</th>\n",
       "      <td>0.952309</td>\n",
       "      <td>YOGUN</td>\n",
       "    </tr>\n",
       "    <tr>\n",
       "      <th>3</th>\n",
       "      <td>0.960664</td>\n",
       "      <td>YOGUN</td>\n",
       "    </tr>\n",
       "    <tr>\n",
       "      <th>4</th>\n",
       "      <td>0.970546</td>\n",
       "      <td>COK_YOGUN</td>\n",
       "    </tr>\n",
       "    <tr>\n",
       "      <th>...</th>\n",
       "      <td>...</td>\n",
       "      <td>...</td>\n",
       "    </tr>\n",
       "    <tr>\n",
       "      <th>6494</th>\n",
       "      <td>0.962395</td>\n",
       "      <td>YOGUN</td>\n",
       "    </tr>\n",
       "    <tr>\n",
       "      <th>6495</th>\n",
       "      <td>0.967759</td>\n",
       "      <td>COK_YOGUN</td>\n",
       "    </tr>\n",
       "    <tr>\n",
       "      <th>6496</th>\n",
       "      <td>0.960240</td>\n",
       "      <td>YOGUN</td>\n",
       "    </tr>\n",
       "    <tr>\n",
       "      <th>6497</th>\n",
       "      <td>0.958491</td>\n",
       "      <td>YOGUN</td>\n",
       "    </tr>\n",
       "    <tr>\n",
       "      <th>6498</th>\n",
       "      <td>0.909703</td>\n",
       "      <td>AZ_YOGUN</td>\n",
       "    </tr>\n",
       "  </tbody>\n",
       "</table>\n",
       "<p>6499 rows × 2 columns</p>\n",
       "</div>"
      ],
      "text/plain": [
       "       density categorical\n",
       "0     0.963261       YOGUN\n",
       "1     0.961608       YOGUN\n",
       "2     0.952309       YOGUN\n",
       "3     0.960664       YOGUN\n",
       "4     0.970546   COK_YOGUN\n",
       "...        ...         ...\n",
       "6494  0.962395       YOGUN\n",
       "6495  0.967759   COK_YOGUN\n",
       "6496  0.960240       YOGUN\n",
       "6497  0.958491       YOGUN\n",
       "6498  0.909703    AZ_YOGUN\n",
       "\n",
       "[6499 rows x 2 columns]"
      ]
     },
     "execution_count": 33,
     "metadata": {},
     "output_type": "execute_result"
    }
   ],
   "source": [
    "pred_yagıslı"
   ]
  },
  {
   "cell_type": "code",
   "execution_count": 34,
   "id": "f5df3484-6c46-494f-927b-fcf1f5431ad0",
   "metadata": {},
   "outputs": [],
   "source": [
    "data_yagıslı = X_test[X_test['SİDDETLİ YAGIS']==1.0]"
   ]
  },
  {
   "cell_type": "code",
   "execution_count": 35,
   "id": "fad7321f-2652-45c9-9b22-72749c64241b",
   "metadata": {},
   "outputs": [
    {
     "data": {
      "text/html": [
       "<div>\n",
       "<style scoped>\n",
       "    .dataframe tbody tr th:only-of-type {\n",
       "        vertical-align: middle;\n",
       "    }\n",
       "\n",
       "    .dataframe tbody tr th {\n",
       "        vertical-align: top;\n",
       "    }\n",
       "\n",
       "    .dataframe thead th {\n",
       "        text-align: right;\n",
       "    }\n",
       "</style>\n",
       "<table border=\"1\" class=\"dataframe\">\n",
       "  <thead>\n",
       "    <tr style=\"text-align: right;\">\n",
       "      <th></th>\n",
       "      <th>Friday</th>\n",
       "      <th>Monday</th>\n",
       "      <th>Saturday</th>\n",
       "      <th>Sunday</th>\n",
       "      <th>Thursday</th>\n",
       "      <th>Tuesday</th>\n",
       "      <th>Wednesday</th>\n",
       "      <th>April</th>\n",
       "      <th>August</th>\n",
       "      <th>December</th>\n",
       "      <th>...</th>\n",
       "      <th>23</th>\n",
       "      <th>NUMBER_OF_PASSENGER</th>\n",
       "      <th>YAGISSIZ</th>\n",
       "      <th>HAFİF YAGIS</th>\n",
       "      <th>SİDDETLİ YAGIS</th>\n",
       "      <th>mac</th>\n",
       "      <th>derbi</th>\n",
       "      <th>RELIGIOUS_HOLIDAY</th>\n",
       "      <th>OFFICAL_HOLIDAY</th>\n",
       "      <th>NUMBER_OF_VEHICLES</th>\n",
       "    </tr>\n",
       "  </thead>\n",
       "  <tbody>\n",
       "    <tr>\n",
       "      <th>180536</th>\n",
       "      <td>0.0</td>\n",
       "      <td>0.0</td>\n",
       "      <td>0.0</td>\n",
       "      <td>0.0</td>\n",
       "      <td>0.0</td>\n",
       "      <td>1.0</td>\n",
       "      <td>0.0</td>\n",
       "      <td>1.0</td>\n",
       "      <td>0.0</td>\n",
       "      <td>0.0</td>\n",
       "      <td>...</td>\n",
       "      <td>0.0</td>\n",
       "      <td>0.000079</td>\n",
       "      <td>0.0</td>\n",
       "      <td>0.0</td>\n",
       "      <td>1.0</td>\n",
       "      <td>1.0</td>\n",
       "      <td>0.0</td>\n",
       "      <td>0.0</td>\n",
       "      <td>0.0</td>\n",
       "      <td>21</td>\n",
       "    </tr>\n",
       "    <tr>\n",
       "      <th>440968</th>\n",
       "      <td>0.0</td>\n",
       "      <td>0.0</td>\n",
       "      <td>0.0</td>\n",
       "      <td>0.0</td>\n",
       "      <td>1.0</td>\n",
       "      <td>0.0</td>\n",
       "      <td>0.0</td>\n",
       "      <td>1.0</td>\n",
       "      <td>0.0</td>\n",
       "      <td>0.0</td>\n",
       "      <td>...</td>\n",
       "      <td>0.0</td>\n",
       "      <td>0.000039</td>\n",
       "      <td>0.0</td>\n",
       "      <td>0.0</td>\n",
       "      <td>1.0</td>\n",
       "      <td>0.0</td>\n",
       "      <td>0.0</td>\n",
       "      <td>0.0</td>\n",
       "      <td>0.0</td>\n",
       "      <td>15</td>\n",
       "    </tr>\n",
       "    <tr>\n",
       "      <th>216749</th>\n",
       "      <td>0.0</td>\n",
       "      <td>0.0</td>\n",
       "      <td>0.0</td>\n",
       "      <td>0.0</td>\n",
       "      <td>1.0</td>\n",
       "      <td>0.0</td>\n",
       "      <td>0.0</td>\n",
       "      <td>1.0</td>\n",
       "      <td>0.0</td>\n",
       "      <td>0.0</td>\n",
       "      <td>...</td>\n",
       "      <td>0.0</td>\n",
       "      <td>0.000305</td>\n",
       "      <td>0.0</td>\n",
       "      <td>0.0</td>\n",
       "      <td>1.0</td>\n",
       "      <td>0.0</td>\n",
       "      <td>0.0</td>\n",
       "      <td>0.0</td>\n",
       "      <td>0.0</td>\n",
       "      <td>78</td>\n",
       "    </tr>\n",
       "    <tr>\n",
       "      <th>616065</th>\n",
       "      <td>0.0</td>\n",
       "      <td>1.0</td>\n",
       "      <td>0.0</td>\n",
       "      <td>0.0</td>\n",
       "      <td>0.0</td>\n",
       "      <td>0.0</td>\n",
       "      <td>0.0</td>\n",
       "      <td>1.0</td>\n",
       "      <td>0.0</td>\n",
       "      <td>0.0</td>\n",
       "      <td>...</td>\n",
       "      <td>0.0</td>\n",
       "      <td>0.000383</td>\n",
       "      <td>0.0</td>\n",
       "      <td>0.0</td>\n",
       "      <td>1.0</td>\n",
       "      <td>0.0</td>\n",
       "      <td>0.0</td>\n",
       "      <td>0.0</td>\n",
       "      <td>0.0</td>\n",
       "      <td>47</td>\n",
       "    </tr>\n",
       "    <tr>\n",
       "      <th>188209</th>\n",
       "      <td>0.0</td>\n",
       "      <td>0.0</td>\n",
       "      <td>0.0</td>\n",
       "      <td>1.0</td>\n",
       "      <td>0.0</td>\n",
       "      <td>0.0</td>\n",
       "      <td>0.0</td>\n",
       "      <td>1.0</td>\n",
       "      <td>0.0</td>\n",
       "      <td>0.0</td>\n",
       "      <td>...</td>\n",
       "      <td>0.0</td>\n",
       "      <td>0.000049</td>\n",
       "      <td>0.0</td>\n",
       "      <td>0.0</td>\n",
       "      <td>1.0</td>\n",
       "      <td>1.0</td>\n",
       "      <td>0.0</td>\n",
       "      <td>0.0</td>\n",
       "      <td>0.0</td>\n",
       "      <td>62</td>\n",
       "    </tr>\n",
       "    <tr>\n",
       "      <th>...</th>\n",
       "      <td>...</td>\n",
       "      <td>...</td>\n",
       "      <td>...</td>\n",
       "      <td>...</td>\n",
       "      <td>...</td>\n",
       "      <td>...</td>\n",
       "      <td>...</td>\n",
       "      <td>...</td>\n",
       "      <td>...</td>\n",
       "      <td>...</td>\n",
       "      <td>...</td>\n",
       "      <td>...</td>\n",
       "      <td>...</td>\n",
       "      <td>...</td>\n",
       "      <td>...</td>\n",
       "      <td>...</td>\n",
       "      <td>...</td>\n",
       "      <td>...</td>\n",
       "      <td>...</td>\n",
       "      <td>...</td>\n",
       "      <td>...</td>\n",
       "    </tr>\n",
       "    <tr>\n",
       "      <th>431210</th>\n",
       "      <td>0.0</td>\n",
       "      <td>0.0</td>\n",
       "      <td>0.0</td>\n",
       "      <td>0.0</td>\n",
       "      <td>0.0</td>\n",
       "      <td>0.0</td>\n",
       "      <td>1.0</td>\n",
       "      <td>1.0</td>\n",
       "      <td>0.0</td>\n",
       "      <td>0.0</td>\n",
       "      <td>...</td>\n",
       "      <td>0.0</td>\n",
       "      <td>0.005325</td>\n",
       "      <td>0.0</td>\n",
       "      <td>0.0</td>\n",
       "      <td>1.0</td>\n",
       "      <td>0.0</td>\n",
       "      <td>0.0</td>\n",
       "      <td>0.0</td>\n",
       "      <td>0.0</td>\n",
       "      <td>46</td>\n",
       "    </tr>\n",
       "    <tr>\n",
       "      <th>498465</th>\n",
       "      <td>0.0</td>\n",
       "      <td>0.0</td>\n",
       "      <td>1.0</td>\n",
       "      <td>0.0</td>\n",
       "      <td>0.0</td>\n",
       "      <td>0.0</td>\n",
       "      <td>0.0</td>\n",
       "      <td>1.0</td>\n",
       "      <td>0.0</td>\n",
       "      <td>0.0</td>\n",
       "      <td>...</td>\n",
       "      <td>0.0</td>\n",
       "      <td>0.027949</td>\n",
       "      <td>0.0</td>\n",
       "      <td>0.0</td>\n",
       "      <td>1.0</td>\n",
       "      <td>0.0</td>\n",
       "      <td>0.0</td>\n",
       "      <td>0.0</td>\n",
       "      <td>0.0</td>\n",
       "      <td>46</td>\n",
       "    </tr>\n",
       "    <tr>\n",
       "      <th>196362</th>\n",
       "      <td>0.0</td>\n",
       "      <td>0.0</td>\n",
       "      <td>0.0</td>\n",
       "      <td>0.0</td>\n",
       "      <td>1.0</td>\n",
       "      <td>0.0</td>\n",
       "      <td>0.0</td>\n",
       "      <td>1.0</td>\n",
       "      <td>0.0</td>\n",
       "      <td>0.0</td>\n",
       "      <td>...</td>\n",
       "      <td>0.0</td>\n",
       "      <td>0.006562</td>\n",
       "      <td>0.0</td>\n",
       "      <td>0.0</td>\n",
       "      <td>1.0</td>\n",
       "      <td>0.0</td>\n",
       "      <td>0.0</td>\n",
       "      <td>0.0</td>\n",
       "      <td>0.0</td>\n",
       "      <td>25</td>\n",
       "    </tr>\n",
       "    <tr>\n",
       "      <th>416012</th>\n",
       "      <td>0.0</td>\n",
       "      <td>0.0</td>\n",
       "      <td>0.0</td>\n",
       "      <td>0.0</td>\n",
       "      <td>1.0</td>\n",
       "      <td>0.0</td>\n",
       "      <td>0.0</td>\n",
       "      <td>1.0</td>\n",
       "      <td>0.0</td>\n",
       "      <td>0.0</td>\n",
       "      <td>...</td>\n",
       "      <td>0.0</td>\n",
       "      <td>0.010423</td>\n",
       "      <td>0.0</td>\n",
       "      <td>0.0</td>\n",
       "      <td>1.0</td>\n",
       "      <td>0.0</td>\n",
       "      <td>0.0</td>\n",
       "      <td>0.0</td>\n",
       "      <td>0.0</td>\n",
       "      <td>30</td>\n",
       "    </tr>\n",
       "    <tr>\n",
       "      <th>657997</th>\n",
       "      <td>0.0</td>\n",
       "      <td>0.0</td>\n",
       "      <td>0.0</td>\n",
       "      <td>0.0</td>\n",
       "      <td>0.0</td>\n",
       "      <td>0.0</td>\n",
       "      <td>1.0</td>\n",
       "      <td>1.0</td>\n",
       "      <td>0.0</td>\n",
       "      <td>0.0</td>\n",
       "      <td>...</td>\n",
       "      <td>0.0</td>\n",
       "      <td>0.213349</td>\n",
       "      <td>0.0</td>\n",
       "      <td>0.0</td>\n",
       "      <td>1.0</td>\n",
       "      <td>0.0</td>\n",
       "      <td>0.0</td>\n",
       "      <td>0.0</td>\n",
       "      <td>0.0</td>\n",
       "      <td>53</td>\n",
       "    </tr>\n",
       "  </tbody>\n",
       "</table>\n",
       "<p>6499 rows × 46 columns</p>\n",
       "</div>"
      ],
      "text/plain": [
       "        Friday  Monday  Saturday  Sunday  Thursday  Tuesday  Wednesday  April  \\\n",
       "180536     0.0     0.0       0.0     0.0       0.0      1.0        0.0    1.0   \n",
       "440968     0.0     0.0       0.0     0.0       1.0      0.0        0.0    1.0   \n",
       "216749     0.0     0.0       0.0     0.0       1.0      0.0        0.0    1.0   \n",
       "616065     0.0     1.0       0.0     0.0       0.0      0.0        0.0    1.0   \n",
       "188209     0.0     0.0       0.0     1.0       0.0      0.0        0.0    1.0   \n",
       "...        ...     ...       ...     ...       ...      ...        ...    ...   \n",
       "431210     0.0     0.0       0.0     0.0       0.0      0.0        1.0    1.0   \n",
       "498465     0.0     0.0       1.0     0.0       0.0      0.0        0.0    1.0   \n",
       "196362     0.0     0.0       0.0     0.0       1.0      0.0        0.0    1.0   \n",
       "416012     0.0     0.0       0.0     0.0       1.0      0.0        0.0    1.0   \n",
       "657997     0.0     0.0       0.0     0.0       0.0      0.0        1.0    1.0   \n",
       "\n",
       "        August  December  ...   23  NUMBER_OF_PASSENGER  YAGISSIZ  \\\n",
       "180536     0.0       0.0  ...  0.0             0.000079       0.0   \n",
       "440968     0.0       0.0  ...  0.0             0.000039       0.0   \n",
       "216749     0.0       0.0  ...  0.0             0.000305       0.0   \n",
       "616065     0.0       0.0  ...  0.0             0.000383       0.0   \n",
       "188209     0.0       0.0  ...  0.0             0.000049       0.0   \n",
       "...        ...       ...  ...  ...                  ...       ...   \n",
       "431210     0.0       0.0  ...  0.0             0.005325       0.0   \n",
       "498465     0.0       0.0  ...  0.0             0.027949       0.0   \n",
       "196362     0.0       0.0  ...  0.0             0.006562       0.0   \n",
       "416012     0.0       0.0  ...  0.0             0.010423       0.0   \n",
       "657997     0.0       0.0  ...  0.0             0.213349       0.0   \n",
       "\n",
       "        HAFİF YAGIS  SİDDETLİ YAGIS  mac  derbi  RELIGIOUS_HOLIDAY  \\\n",
       "180536          0.0             1.0  1.0    0.0                0.0   \n",
       "440968          0.0             1.0  0.0    0.0                0.0   \n",
       "216749          0.0             1.0  0.0    0.0                0.0   \n",
       "616065          0.0             1.0  0.0    0.0                0.0   \n",
       "188209          0.0             1.0  1.0    0.0                0.0   \n",
       "...             ...             ...  ...    ...                ...   \n",
       "431210          0.0             1.0  0.0    0.0                0.0   \n",
       "498465          0.0             1.0  0.0    0.0                0.0   \n",
       "196362          0.0             1.0  0.0    0.0                0.0   \n",
       "416012          0.0             1.0  0.0    0.0                0.0   \n",
       "657997          0.0             1.0  0.0    0.0                0.0   \n",
       "\n",
       "        OFFICAL_HOLIDAY  NUMBER_OF_VEHICLES  \n",
       "180536              0.0                  21  \n",
       "440968              0.0                  15  \n",
       "216749              0.0                  78  \n",
       "616065              0.0                  47  \n",
       "188209              0.0                  62  \n",
       "...                 ...                 ...  \n",
       "431210              0.0                  46  \n",
       "498465              0.0                  46  \n",
       "196362              0.0                  25  \n",
       "416012              0.0                  30  \n",
       "657997              0.0                  53  \n",
       "\n",
       "[6499 rows x 46 columns]"
      ]
     },
     "execution_count": 35,
     "metadata": {},
     "output_type": "execute_result"
    }
   ],
   "source": [
    "data_yagıslı"
   ]
  },
  {
   "cell_type": "code",
   "execution_count": 36,
   "id": "4c719917-af19-46e9-867a-922f153eee8a",
   "metadata": {},
   "outputs": [
    {
     "data": {
      "text/html": [
       "<div>\n",
       "<style scoped>\n",
       "    .dataframe tbody tr th:only-of-type {\n",
       "        vertical-align: middle;\n",
       "    }\n",
       "\n",
       "    .dataframe tbody tr th {\n",
       "        vertical-align: top;\n",
       "    }\n",
       "\n",
       "    .dataframe thead th {\n",
       "        text-align: right;\n",
       "    }\n",
       "</style>\n",
       "<table border=\"1\" class=\"dataframe\">\n",
       "  <thead>\n",
       "    <tr style=\"text-align: right;\">\n",
       "      <th></th>\n",
       "      <th>0</th>\n",
       "    </tr>\n",
       "  </thead>\n",
       "  <tbody>\n",
       "    <tr>\n",
       "      <th>count</th>\n",
       "      <td>130648.000000</td>\n",
       "    </tr>\n",
       "    <tr>\n",
       "      <th>mean</th>\n",
       "      <td>0.968264</td>\n",
       "    </tr>\n",
       "    <tr>\n",
       "      <th>std</th>\n",
       "      <td>0.019555</td>\n",
       "    </tr>\n",
       "    <tr>\n",
       "      <th>min</th>\n",
       "      <td>0.803511</td>\n",
       "    </tr>\n",
       "    <tr>\n",
       "      <th>15%</th>\n",
       "      <td>0.950634</td>\n",
       "    </tr>\n",
       "    <tr>\n",
       "      <th>40%</th>\n",
       "      <td>0.962189</td>\n",
       "    </tr>\n",
       "    <tr>\n",
       "      <th>50%</th>\n",
       "      <td>0.966343</td>\n",
       "    </tr>\n",
       "    <tr>\n",
       "      <th>60%</th>\n",
       "      <td>0.971936</td>\n",
       "    </tr>\n",
       "    <tr>\n",
       "      <th>80%</th>\n",
       "      <td>0.985227</td>\n",
       "    </tr>\n",
       "    <tr>\n",
       "      <th>max</th>\n",
       "      <td>1.021531</td>\n",
       "    </tr>\n",
       "  </tbody>\n",
       "</table>\n",
       "</div>"
      ],
      "text/plain": [
       "                   0\n",
       "count  130648.000000\n",
       "mean        0.968264\n",
       "std         0.019555\n",
       "min         0.803511\n",
       "15%         0.950634\n",
       "40%         0.962189\n",
       "50%         0.966343\n",
       "60%         0.971936\n",
       "80%         0.985227\n",
       "max         1.021531"
      ]
     },
     "execution_count": 36,
     "metadata": {},
     "output_type": "execute_result"
    }
   ],
   "source": [
    "pred_yagıssız= pd.DataFrame(y_predict_yagıssız)\n",
    "\n",
    "pred_yagıssız.describe(percentiles=[0.15,0.40,0.60,0.80])\n"
   ]
  },
  {
   "cell_type": "code",
   "execution_count": 37,
   "id": "1c885022-da50-49a4-b968-bdab3132f4c8",
   "metadata": {},
   "outputs": [],
   "source": [
    "pred_yagıssız['categorical'] = np.nan\n",
    "pred_yagıssız= pred_yagıssız.rename(columns={0:'density'})"
   ]
  },
  {
   "cell_type": "code",
   "execution_count": 38,
   "id": "03edf048-e5eb-4ec4-a6b8-2bdf0383809e",
   "metadata": {},
   "outputs": [],
   "source": [
    "pred_yagıssız['categorical'] = pred_yagıssız['density'].apply(lambda x : freq_cate(x))"
   ]
  },
  {
   "cell_type": "code",
   "execution_count": 39,
   "id": "2c4dac7f-a27b-4917-a79b-d12ed39de5d8",
   "metadata": {},
   "outputs": [],
   "source": [
    "data_yagıssız = X_test[X_test['YAGISSIZ']==1.0]"
   ]
  },
  {
   "cell_type": "code",
   "execution_count": 40,
   "id": "3fe1d747-200e-4e9b-983e-d02efa78e7c4",
   "metadata": {},
   "outputs": [
    {
     "data": {
      "text/html": [
       "<div>\n",
       "<style scoped>\n",
       "    .dataframe tbody tr th:only-of-type {\n",
       "        vertical-align: middle;\n",
       "    }\n",
       "\n",
       "    .dataframe tbody tr th {\n",
       "        vertical-align: top;\n",
       "    }\n",
       "\n",
       "    .dataframe thead th {\n",
       "        text-align: right;\n",
       "    }\n",
       "</style>\n",
       "<table border=\"1\" class=\"dataframe\">\n",
       "  <thead>\n",
       "    <tr style=\"text-align: right;\">\n",
       "      <th></th>\n",
       "      <th>density</th>\n",
       "      <th>categorical</th>\n",
       "    </tr>\n",
       "  </thead>\n",
       "  <tbody>\n",
       "    <tr>\n",
       "      <th>0</th>\n",
       "      <td>0.984557</td>\n",
       "      <td>DOLU</td>\n",
       "    </tr>\n",
       "    <tr>\n",
       "      <th>1</th>\n",
       "      <td>0.963840</td>\n",
       "      <td>YOGUN</td>\n",
       "    </tr>\n",
       "    <tr>\n",
       "      <th>2</th>\n",
       "      <td>0.961665</td>\n",
       "      <td>YOGUN</td>\n",
       "    </tr>\n",
       "    <tr>\n",
       "      <th>3</th>\n",
       "      <td>0.957964</td>\n",
       "      <td>YOGUN</td>\n",
       "    </tr>\n",
       "    <tr>\n",
       "      <th>4</th>\n",
       "      <td>0.947209</td>\n",
       "      <td>YOGUN</td>\n",
       "    </tr>\n",
       "    <tr>\n",
       "      <th>...</th>\n",
       "      <td>...</td>\n",
       "      <td>...</td>\n",
       "    </tr>\n",
       "    <tr>\n",
       "      <th>130643</th>\n",
       "      <td>0.975822</td>\n",
       "      <td>COK_YOGUN</td>\n",
       "    </tr>\n",
       "    <tr>\n",
       "      <th>130644</th>\n",
       "      <td>0.967822</td>\n",
       "      <td>COK_YOGUN</td>\n",
       "    </tr>\n",
       "    <tr>\n",
       "      <th>130645</th>\n",
       "      <td>0.949458</td>\n",
       "      <td>YOGUN</td>\n",
       "    </tr>\n",
       "    <tr>\n",
       "      <th>130646</th>\n",
       "      <td>0.963578</td>\n",
       "      <td>YOGUN</td>\n",
       "    </tr>\n",
       "    <tr>\n",
       "      <th>130647</th>\n",
       "      <td>0.931062</td>\n",
       "      <td>YOGUN</td>\n",
       "    </tr>\n",
       "  </tbody>\n",
       "</table>\n",
       "<p>130648 rows × 2 columns</p>\n",
       "</div>"
      ],
      "text/plain": [
       "         density categorical\n",
       "0       0.984557        DOLU\n",
       "1       0.963840       YOGUN\n",
       "2       0.961665       YOGUN\n",
       "3       0.957964       YOGUN\n",
       "4       0.947209       YOGUN\n",
       "...          ...         ...\n",
       "130643  0.975822   COK_YOGUN\n",
       "130644  0.967822   COK_YOGUN\n",
       "130645  0.949458       YOGUN\n",
       "130646  0.963578       YOGUN\n",
       "130647  0.931062       YOGUN\n",
       "\n",
       "[130648 rows x 2 columns]"
      ]
     },
     "execution_count": 40,
     "metadata": {},
     "output_type": "execute_result"
    }
   ],
   "source": [
    "pred_yagıssız"
   ]
  },
  {
   "cell_type": "code",
   "execution_count": 41,
   "id": "0407041b-0a91-414a-9654-867b251b7401",
   "metadata": {},
   "outputs": [],
   "source": [
    "traffic_yagıssız= pd.concat([data_yagıssız.reset_index(drop=True),pred_yagıssız], axis = 1)"
   ]
  },
  {
   "cell_type": "code",
   "execution_count": 42,
   "id": "12bdfbf2-6a36-43d6-9a33-a0b65c99e599",
   "metadata": {},
   "outputs": [],
   "source": [
    "traffic_yagıslı= pd.concat([data_yagıslı.reset_index(drop=True),pred_yagıslı], axis = 1)"
   ]
  },
  {
   "cell_type": "code",
   "execution_count": 43,
   "id": "cb6f757e-d55c-40d7-bb7f-dfae873ab880",
   "metadata": {},
   "outputs": [],
   "source": [
    "traffic_yagıslı.to_csv('slinear_yagmurlu_traffic.csv')"
   ]
  },
  {
   "cell_type": "code",
   "execution_count": 44,
   "id": "1eecee3e-489c-41d8-b09a-87021821ba27",
   "metadata": {},
   "outputs": [],
   "source": [
    "traffic_yagıssız.to_csv('slinear_yagmursuz_traffic.csv')"
   ]
  },
  {
   "cell_type": "code",
   "execution_count": 43,
   "id": "5bf2488b-05c2-4892-b50a-1bb65058d81c",
   "metadata": {},
   "outputs": [],
   "source": [
    "import shap\n",
    "from sklearn.model_selection import train_test_split\n",
    "from sklearn.linear_model import LinearRegression\n",
    "from sklearn.preprocessing import LabelEncoder\n",
    "\n",
    "def traffic(data):\n",
    "    \n",
    "    data.drop(['density'],axis=1,inplace=True)\n",
    "    Y = data.iloc[:,-2:-1]\n",
    "    data.drop(['NUMBER_OF_VEHICLES'],axis=1 , inplace=True)\n",
    "    \n",
    "   \n",
    "\n",
    "    labelencoder = LabelEncoder()\n",
    "    \n",
    "    data['categorical'] = labelencoder.fit_transform(data['categorical'])\n",
    "    data.rename(columns={\"categorical\": \"density_categorical\"}, inplace=True)\n",
    "\n",
    "\n",
    "    X_train, X_test, Y_train, Y_test = train_test_split(data, Y,  test_size=0.2, random_state=7)\n",
    "    \n",
    "   \n",
    "    model = LinearRegression()\n",
    "    model.fit(X_train, Y_train)\n",
    "    \n",
    "    y_pred = model.predict(X_test)\n",
    "    \n",
    "    lin_reg_explainer1 = shap.LinearExplainer(model, X_train)\n",
    "    \n",
    "    shap_val = lin_reg_explainer1.shap_values(X_train)\n",
    "    \n",
    "    shap.summary_plot(shap_val, X_train)"
   ]
  },
  {
   "cell_type": "code",
   "execution_count": 44,
   "id": "131732aa-8b6b-41c9-a048-62028a6c744d",
   "metadata": {},
   "outputs": [
    {
     "data": {
      "image/png": "[encoded data removed]",
      "text/plain": [
       "<Figure size 576x684 with 2 Axes>"
      ]
     },
     "metadata": {
      "needs_background": "light"
     },
     "output_type": "display_data"
    }
   ],
   "source": [
    "traffic(traffic_yagıssız)"
   ]
  },
  {
   "cell_type": "code",
   "execution_count": 46,
   "id": "1a6080f7-513c-4205-95d8-04aca3bbe9cb",
   "metadata": {},
   "outputs": [
    {
     "data": {
      "image/png": "[encoded data removed]",
      "text/plain": [
       "<Figure size 576x684 with 2 Axes>"
      ]
     },
     "metadata": {
      "needs_background": "light"
     },
     "output_type": "display_data"
    }
   ],
   "source": [
    "traffic(traffic_yagıslı)"
   ]
  },
  {
   "cell_type": "code",
   "execution_count": null,
   "id": "f0d0f80a-de30-42ce-8ed4-cd32e8c5c86a",
   "metadata": {},
   "outputs": [],
   "source": []
  }
 ],
 "metadata": {
  "kernelspec": {
   "display_name": "Python 3",
   "language": "python",
   "name": "python3"
  },
  "language_info": {
   "codemirror_mode": {
    "name": "ipython",
    "version": 3
   },
   "file_extension": ".py",
   "mimetype": "text/x-python",
   "name": "python",
   "nbconvert_exporter": "python",
   "pygments_lexer": "ipython3",
   "version": "3.8.8"
  }
 },
 "nbformat": 4,
 "nbformat_minor": 5
}
