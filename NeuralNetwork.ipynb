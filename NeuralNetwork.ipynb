{
 "cells": [
  {
   "cell_type": "code",
   "execution_count": 1,
   "id": "7ad65c0d-5d89-47c0-9282-c58148054aeb",
   "metadata": {},
   "outputs": [],
   "source": [
    "import pandas as pd"
   ]
  },
  {
   "cell_type": "code",
   "execution_count": 2,
   "id": "d66702e3-348f-40a5-8e35-cf5bf6904ed8",
   "metadata": {},
   "outputs": [],
   "source": [
    "data = pd.read_csv('model_data.csv')"
   ]
  },
  {
   "cell_type": "code",
   "execution_count": 3,
   "id": "a058006b-c8b8-4674-82fe-83bc260a0f3e",
   "metadata": {},
   "outputs": [],
   "source": [
    "data=data.iloc[:,1:]"
   ]
  },
  {
   "cell_type": "code",
   "execution_count": 4,
   "id": "7a21d36a-e3a4-4eb4-a88d-46789aae8faf",
   "metadata": {},
   "outputs": [],
   "source": [
    "data.drop(['MINIMUM_SPEED','MAXIMUM_SPEED','AVERAGE_SPEED','DATE','M1','M2','M3','M1_P','M2_P','M3_P','distance'],axis=1,inplace=True)"
   ]
  },
  {
   "cell_type": "code",
   "execution_count": 5,
   "id": "81043692-26de-4d78-adff-b638f984e851",
   "metadata": {},
   "outputs": [
    {
     "data": {
      "text/html": [
       "<div>\n",
       "<style scoped>\n",
       "    .dataframe tbody tr th:only-of-type {\n",
       "        vertical-align: middle;\n",
       "    }\n",
       "\n",
       "    .dataframe tbody tr th {\n",
       "        vertical-align: top;\n",
       "    }\n",
       "\n",
       "    .dataframe thead th {\n",
       "        text-align: right;\n",
       "    }\n",
       "</style>\n",
       "<table border=\"1\" class=\"dataframe\">\n",
       "  <thead>\n",
       "    <tr style=\"text-align: right;\">\n",
       "      <th></th>\n",
       "      <th>yogunluk</th>\n",
       "    </tr>\n",
       "  </thead>\n",
       "  <tbody>\n",
       "    <tr>\n",
       "      <th>0</th>\n",
       "      <td>1.000000</td>\n",
       "    </tr>\n",
       "    <tr>\n",
       "      <th>1</th>\n",
       "      <td>1.000000</td>\n",
       "    </tr>\n",
       "    <tr>\n",
       "      <th>2</th>\n",
       "      <td>0.921039</td>\n",
       "    </tr>\n",
       "    <tr>\n",
       "      <th>3</th>\n",
       "      <td>0.998471</td>\n",
       "    </tr>\n",
       "    <tr>\n",
       "      <th>4</th>\n",
       "      <td>0.948718</td>\n",
       "    </tr>\n",
       "    <tr>\n",
       "      <th>...</th>\n",
       "      <td>...</td>\n",
       "    </tr>\n",
       "    <tr>\n",
       "      <th>749995</th>\n",
       "      <td>1.000000</td>\n",
       "    </tr>\n",
       "    <tr>\n",
       "      <th>749996</th>\n",
       "      <td>1.000000</td>\n",
       "    </tr>\n",
       "    <tr>\n",
       "      <th>749997</th>\n",
       "      <td>0.978780</td>\n",
       "    </tr>\n",
       "    <tr>\n",
       "      <th>749998</th>\n",
       "      <td>0.922692</td>\n",
       "    </tr>\n",
       "    <tr>\n",
       "      <th>749999</th>\n",
       "      <td>0.987210</td>\n",
       "    </tr>\n",
       "  </tbody>\n",
       "</table>\n",
       "<p>750000 rows × 1 columns</p>\n",
       "</div>"
      ],
      "text/plain": [
       "        yogunluk\n",
       "0       1.000000\n",
       "1       1.000000\n",
       "2       0.921039\n",
       "3       0.998471\n",
       "4       0.948718\n",
       "...          ...\n",
       "749995  1.000000\n",
       "749996  1.000000\n",
       "749997  0.978780\n",
       "749998  0.922692\n",
       "749999  0.987210\n",
       "\n",
       "[750000 rows x 1 columns]"
      ]
     },
     "execution_count": 5,
     "metadata": {},
     "output_type": "execute_result"
    }
   ],
   "source": [
    "Y = data.iloc[:,41:42]\n",
    "Y"
   ]
  },
  {
   "cell_type": "code",
   "execution_count": 6,
   "id": "4b644402-8730-4af7-8e8c-b5ef7bc9328e",
   "metadata": {},
   "outputs": [
    {
     "name": "stdout",
     "output_type": "stream",
     "text": [
      "<class 'pandas.core.frame.DataFrame'>\n",
      "RangeIndex: 750000 entries, 0 to 749999\n",
      "Data columns (total 46 columns):\n",
      " #   Column               Non-Null Count   Dtype  \n",
      "---  ------               --------------   -----  \n",
      " 0   Friday               750000 non-null  float64\n",
      " 1   Monday               750000 non-null  float64\n",
      " 2   Saturday             750000 non-null  float64\n",
      " 3   Sunday               750000 non-null  float64\n",
      " 4   Thursday             750000 non-null  float64\n",
      " 5   Tuesday              750000 non-null  float64\n",
      " 6   Wednesday            750000 non-null  float64\n",
      " 7   April                750000 non-null  float64\n",
      " 8   August               750000 non-null  float64\n",
      " 9   December             750000 non-null  float64\n",
      " 10  February             750000 non-null  float64\n",
      " 11  January              750000 non-null  float64\n",
      " 12  July                 750000 non-null  float64\n",
      " 13  June                 750000 non-null  float64\n",
      " 14  March                750000 non-null  float64\n",
      " 15  May                  750000 non-null  float64\n",
      " 16  November             750000 non-null  float64\n",
      " 17  October              750000 non-null  float64\n",
      " 18  September            750000 non-null  float64\n",
      " 19  06                   750000 non-null  float64\n",
      " 20  07                   750000 non-null  float64\n",
      " 21  08                   750000 non-null  float64\n",
      " 22  09                   750000 non-null  float64\n",
      " 23  10                   750000 non-null  float64\n",
      " 24  11                   750000 non-null  float64\n",
      " 25  12                   750000 non-null  float64\n",
      " 26  13                   750000 non-null  float64\n",
      " 27  14                   750000 non-null  float64\n",
      " 28  15                   750000 non-null  float64\n",
      " 29  16                   750000 non-null  float64\n",
      " 30  17                   750000 non-null  float64\n",
      " 31  18                   750000 non-null  float64\n",
      " 32  19                   750000 non-null  float64\n",
      " 33  20                   750000 non-null  float64\n",
      " 34  21                   750000 non-null  float64\n",
      " 35  22                   750000 non-null  float64\n",
      " 36  23                   750000 non-null  float64\n",
      " 37  NUMBER_OF_PASSENGER  750000 non-null  float64\n",
      " 38  YAGISSIZ             750000 non-null  float64\n",
      " 39  HAFİF YAGIS          750000 non-null  float64\n",
      " 40  SİDDETLİ YAGIS       750000 non-null  float64\n",
      " 41  mac                  750000 non-null  float64\n",
      " 42  derbi                750000 non-null  float64\n",
      " 43  RELIGIOUS_HOLIDAY    750000 non-null  float64\n",
      " 44  OFFICAL_HOLIDAY      750000 non-null  float64\n",
      " 45  NUMBER_OF_VEHICLES   750000 non-null  int64  \n",
      "dtypes: float64(45), int64(1)\n",
      "memory usage: 263.2 MB\n"
     ]
    }
   ],
   "source": [
    "X = data.drop(['yogunluk'],axis=1)\n",
    "X.info()"
   ]
  },
  {
   "cell_type": "code",
   "execution_count": 11,
   "id": "589247e0-e0a9-4fc2-b9e8-5c2231854bdc",
   "metadata": {},
   "outputs": [],
   "source": [
    "from sklearn.model_selection import train_test_split\n",
    "\n",
    "X_train, X_test, Y_train, Y_test = train_test_split(X, Y, test_size = 0.3, random_state = 42)"
   ]
  },
  {
   "cell_type": "code",
   "execution_count": 12,
   "id": "41999cd3-a517-40eb-954c-1a761f2c507f",
   "metadata": {},
   "outputs": [
    {
     "name": "stdout",
     "output_type": "stream",
     "text": [
      "xtrain: (525000, 46) ytrian: (525000, 1)\n"
     ]
    }
   ],
   "source": [
    "print(\"xtrain:\", X_train.shape, \"ytrian:\", Y_train.shape)"
   ]
  },
  {
   "cell_type": "code",
   "execution_count": 13,
   "id": "9d206c66-3e24-4d05-b92b-824cdc32d962",
   "metadata": {},
   "outputs": [
    {
     "name": "stdout",
     "output_type": "stream",
     "text": [
      "xtest: (225000, 46) ytest: (225000, 1)\n"
     ]
    }
   ],
   "source": [
    "print(\"xtest:\", X_test.shape, \"ytest:\", Y_test.shape)"
   ]
  },
  {
   "cell_type": "code",
   "execution_count": 14,
   "id": "7dc9e5fc-e406-4a19-b3ed-5877c4822cfd",
   "metadata": {},
   "outputs": [],
   "source": [
    "in_dim = X.shape[1]\n",
    "out_dim = Y.shape[1]\n"
   ]
  },
  {
   "cell_type": "code",
   "execution_count": 15,
   "id": "d6a4fcd2-64aa-4b08-9022-3990af24e423",
   "metadata": {},
   "outputs": [
    {
     "name": "stdout",
     "output_type": "stream",
     "text": [
      "Model: \"sequential\"\n",
      "_________________________________________________________________\n",
      "Layer (type)                 Output Shape              Param #   \n",
      "=================================================================\n",
      "dense (Dense)                (None, 100)               4700      \n",
      "_________________________________________________________________\n",
      "dense_1 (Dense)              (None, 32)                3232      \n",
      "_________________________________________________________________\n",
      "dense_2 (Dense)              (None, 1)                 33        \n",
      "=================================================================\n",
      "Total params: 7,965\n",
      "Trainable params: 7,965\n",
      "Non-trainable params: 0\n",
      "_________________________________________________________________\n"
     ]
    }
   ],
   "source": [
    "import tensorflow as tf\n",
    "\n",
    "model = tf.keras.models.Sequential()\n",
    "model.add(tf.keras.layers.Dense(100, input_dim=in_dim, activation=\"relu\"))\n",
    "model.add(tf.keras.layers.Dense(32, activation=\"relu\"))\n",
    "model.add(tf.keras.layers.Dense(out_dim))\n",
    "model.compile(loss=\"mse\", optimizer=\"adam\")\n",
    "model.summary()"
   ]
  },
  {
   "cell_type": "code",
   "execution_count": 16,
   "id": "b9efb120-f8a9-4d60-8acc-9652c820a87e",
   "metadata": {},
   "outputs": [
    {
     "name": "stdout",
     "output_type": "stream",
     "text": [
      "Epoch 1/10\n",
      "43750/43750 [==============================] - 30s 690us/step - loss: 0.0243 - val_loss: 0.0018\n",
      "Epoch 2/10\n",
      "43750/43750 [==============================] - 32s 742us/step - loss: 0.0017 - val_loss: 0.0017\n",
      "Epoch 3/10\n",
      "43750/43750 [==============================] - 33s 760us/step - loss: 0.0017 - val_loss: 0.0018\n",
      "Epoch 4/10\n",
      "43750/43750 [==============================] - 33s 756us/step - loss: 0.0016 - val_loss: 0.0017\n",
      "Epoch 5/10\n",
      "43750/43750 [==============================] - 33s 757us/step - loss: 0.0016 - val_loss: 0.0017\n",
      "Epoch 6/10\n",
      "43750/43750 [==============================] - 33s 765us/step - loss: 0.0016 - val_loss: 0.0017\n",
      "Epoch 7/10\n",
      "43750/43750 [==============================] - 33s 763us/step - loss: 0.0016 - val_loss: 0.0017\n",
      "Epoch 8/10\n",
      "43750/43750 [==============================] - 34s 775us/step - loss: 0.0016 - val_loss: 0.0017\n",
      "Epoch 9/10\n",
      "43750/43750 [==============================] - 34s 771us/step - loss: 0.0016 - val_loss: 0.0017\n",
      "Epoch 10/10\n",
      "43750/43750 [==============================] - 32s 722us/step - loss: 0.0016 - val_loss: 0.0017\n"
     ]
    },
    {
     "data": {
      "text/plain": [
       "<tensorflow.python.keras.callbacks.History at 0x7fe700534310>"
      ]
     },
     "execution_count": 16,
     "metadata": {},
     "output_type": "execute_result"
    }
   ],
   "source": [
    "model.fit(X_train, Y_train, epochs=10, batch_size=12 , validation_data= (X_test,Y_test))"
   ]
  },
  {
   "cell_type": "code",
   "execution_count": 28,
   "id": "328637f7-2791-47dc-8b9d-7e835fde92c4",
   "metadata": {},
   "outputs": [],
   "source": [
    "y_predict_yagıslı = model.predict(X_test[X_test['SİDDETLİ YAGIS']==1.0])\n",
    "y_predict_yagıssız = model.predict(X_test[X_test['YAGISSIZ']==1.0])"
   ]
  },
  {
   "cell_type": "code",
   "execution_count": 29,
   "id": "16612459-6f47-4684-b141-4f1a7b2516a2",
   "metadata": {},
   "outputs": [],
   "source": [
    "idx= X_test[X_test['SİDDETLİ YAGIS']==1.0].index\n",
    "idx2= X_test[X_test['YAGISSIZ']==1.0].index"
   ]
  },
  {
   "cell_type": "code",
   "execution_count": 30,
   "id": "06475151-902e-4f86-a955-07a7c3f893a4",
   "metadata": {},
   "outputs": [],
   "source": [
    "ytest_yagıslı = Y_test[Y_test.index.isin(idx)]\n",
    "ytest_yagıssız =Y_test[Y_test.index.isin(idx2)]"
   ]
  },
  {
   "cell_type": "code",
   "execution_count": 31,
   "id": "c5ce5f0c-e691-4fa5-9e9c-7e988a2e9879",
   "metadata": {},
   "outputs": [],
   "source": [
    "X_train_yagıs = X_train[X_train['SİDDETLİ YAGIS']==1.0]\n",
    "X_train_yagıssız = (X_train[X_train['YAGISSIZ']==1.0])"
   ]
  },
  {
   "cell_type": "code",
   "execution_count": 32,
   "id": "fe25c426-92d5-4991-babd-f7626a516fad",
   "metadata": {},
   "outputs": [],
   "source": [
    "X_test_yagıs = X_test[X_test['SİDDETLİ YAGIS']==1.0]\n",
    "X_test_yagıssız = (X_test[X_test['YAGISSIZ']==1.0])"
   ]
  },
  {
   "cell_type": "code",
   "execution_count": 33,
   "id": "8c3d8b27-f5e1-4695-988b-0e0368730ff8",
   "metadata": {},
   "outputs": [],
   "source": [
    "score = model.evaluate(X_test_yagıs, y_predict_yagıslı, verbose=0)"
   ]
  },
  {
   "cell_type": "code",
   "execution_count": 34,
   "id": "3ad64d8f-6cb6-45e5-9634-a693c13ef24a",
   "metadata": {},
   "outputs": [
    {
     "data": {
      "image/png": "[encoded data removed]",
      "text/plain": [
       "<Figure size 432x288 with 1 Axes>"
      ]
     },
     "metadata": {
      "needs_background": "light"
     },
     "output_type": "display_data"
    },
    {
     "data": {
      "image/png": "[encoded data removed]",
      "text/plain": [
       "<Figure size 432x288 with 1 Axes>"
      ]
     },
     "metadata": {
      "needs_background": "light"
     },
     "output_type": "display_data"
    }
   ],
   "source": [
    "import matplotlib.pyplot as plt\n",
    "\n",
    "def plot_diff(y_true, y_pred, title=''):\n",
    "    plt.scatter(y_true, y_pred)\n",
    "    plt.title(title)\n",
    "    plt.xlabel('True Values')\n",
    "    plt.ylabel('Predictions')\n",
    "    plt.axis('equal')\n",
    "    plt.axis('square')\n",
    "    plt.xlim(plt.xlim())\n",
    "    plt.ylim(plt.ylim())\n",
    "    plt.plot([-100, 100], [-100, 100])\n",
    "    plt.show()\n",
    "    \n",
    "    \n",
    "def plot_metrics(metric_name, title, ylim=5):\n",
    "    plt.title(title)\n",
    "    plt.ylim(0, ylim)\n",
    "    plt.plot(history.history[metric_name], color='blue', label=metric_name)\n",
    "    plt.plot(history.history['val_' + metric_name], color='green', label='val_' + metric_name)\n",
    "    plt.show()\n",
    "\n",
    "plot_diff(ytest_yagıslı.iloc[:,0], y_predict_yagıslı[:,0], title='Yagıslı')\n",
    "plot_diff(ytest_yagıssız.iloc[:,0], y_predict_yagıssız[:,0], title='Yagıssız')"
   ]
  },
  {
   "cell_type": "code",
   "execution_count": 35,
   "id": "e3948c22-7c41-4d26-ace3-ceec5d85b3b3",
   "metadata": {},
   "outputs": [
    {
     "data": {
      "text/plain": [
       "(array([1.200e+01, 2.000e+01, 2.000e+00, 1.000e+00, 2.400e+01, 1.300e+01,\n",
       "        1.900e+01, 3.400e+01, 1.900e+01, 2.300e+01, 3.900e+01, 1.000e+01,\n",
       "        2.300e+01, 2.000e+01, 2.200e+01, 2.300e+01, 4.900e+01, 5.500e+01,\n",
       "        3.600e+01, 3.300e+01, 2.500e+01, 2.700e+01, 2.500e+01, 5.500e+01,\n",
       "        3.600e+01, 3.800e+01, 4.200e+01, 4.200e+01, 5.500e+01, 7.200e+01,\n",
       "        5.900e+01, 5.800e+01, 7.600e+01, 1.130e+02, 2.370e+02, 1.460e+02,\n",
       "        2.050e+02, 1.310e+02, 1.310e+02, 1.450e+02, 1.300e+02, 1.390e+02,\n",
       "        1.450e+02, 3.390e+02, 4.540e+02, 1.046e+03, 1.233e+03, 9.880e+02,\n",
       "        7.290e+02, 5.650e+02, 4.540e+02, 2.720e+02, 1.850e+02, 1.750e+02,\n",
       "        1.810e+02, 2.010e+02, 1.450e+02, 1.130e+02, 5.400e+01, 7.000e+00]),\n",
       " array([0.85147643, 0.85411584, 0.85675526, 0.85939467, 0.8620341 ,\n",
       "        0.8646735 , 0.8673129 , 0.8699523 , 0.87259173, 0.87523115,\n",
       "        0.87787056, 0.88051   , 0.8831494 , 0.8857888 , 0.8884282 ,\n",
       "        0.8910676 , 0.8937071 , 0.8963465 , 0.8989859 , 0.90162534,\n",
       "        0.90426475, 0.90690416, 0.9095436 , 0.912183  , 0.9148224 ,\n",
       "        0.9174618 , 0.9201012 , 0.92274064, 0.92538005, 0.92801946,\n",
       "        0.9306589 , 0.9332983 , 0.9359377 , 0.9385771 , 0.9412165 ,\n",
       "        0.94385594, 0.94649535, 0.94913477, 0.9517742 , 0.9544136 ,\n",
       "        0.957053  , 0.9596924 , 0.96233183, 0.96497124, 0.96761066,\n",
       "        0.9702501 , 0.97288954, 0.97552896, 0.97816837, 0.9808078 ,\n",
       "        0.9834472 , 0.9860866 , 0.988726  , 0.99136543, 0.99400485,\n",
       "        0.99664426, 0.9992837 , 1.0019231 , 1.0045625 , 1.0072019 ,\n",
       "        1.0098413 ], dtype=float32),\n",
       " <BarContainer object of 60 artists>)"
      ]
     },
     "execution_count": 35,
     "metadata": {},
     "output_type": "execute_result"
    },
    {
     "data": {
      "image/png": "[encoded data removed]",
      "text/plain": [
       "<Figure size 432x288 with 1 Axes>"
      ]
     },
     "metadata": {
      "needs_background": "light"
     },
     "output_type": "display_data"
    }
   ],
   "source": [
    "import matplotlib.mlab as mlab\n",
    "import matplotlib.pyplot as plt\n",
    "\n",
    "plt.hist(y_predict_yagıslı,bins=60)"
   ]
  },
  {
   "cell_type": "code",
   "execution_count": 36,
   "id": "f2030fd1-bdf3-4744-bbc6-ab8c4af893fb",
   "metadata": {},
   "outputs": [
    {
     "data": {
      "text/plain": [
       "(array([3.0000e+00, 5.0000e+00, 7.0000e+00, 3.4000e+01, 2.8000e+01,\n",
       "        7.7000e+01, 1.8100e+02, 2.6900e+02, 2.7100e+02, 3.2700e+02,\n",
       "        1.4200e+02, 1.7200e+02, 2.6000e+02, 2.6000e+02, 2.1700e+02,\n",
       "        2.1700e+02, 2.2900e+02, 2.6100e+02, 2.6500e+02, 3.1200e+02,\n",
       "        4.1800e+02, 4.1800e+02, 4.9900e+02, 6.0600e+02, 6.5400e+02,\n",
       "        6.9200e+02, 7.6200e+02, 7.8800e+02, 9.7100e+02, 1.3830e+03,\n",
       "        1.1050e+03, 9.3000e+02, 8.3100e+02, 1.0660e+03, 1.3010e+03,\n",
       "        1.9030e+03, 2.3380e+03, 2.1690e+03, 2.6680e+03, 2.7980e+03,\n",
       "        3.0070e+03, 3.0970e+03, 3.6480e+03, 4.0980e+03, 1.8243e+04,\n",
       "        1.1756e+04, 1.4879e+04, 1.3159e+04, 9.1640e+03, 1.0008e+04,\n",
       "        1.4279e+04, 1.3935e+04, 1.0924e+04, 1.1492e+04, 1.1011e+04,\n",
       "        1.0046e+04, 4.3130e+03, 1.0910e+03, 1.2900e+02, 2.6000e+01]),\n",
       " array([0.83141184, 0.8344651 , 0.83751833, 0.8405716 , 0.84362483,\n",
       "        0.846678  , 0.84973127, 0.8527845 , 0.85583776, 0.858891  ,\n",
       "        0.86194426, 0.8649975 , 0.86805075, 0.871104  , 0.87415725,\n",
       "        0.8772105 , 0.8802637 , 0.88331693, 0.8863702 , 0.88942343,\n",
       "        0.8924767 , 0.8955299 , 0.8985832 , 0.9016364 , 0.90468967,\n",
       "        0.90774286, 0.9107961 , 0.91384935, 0.9169026 , 0.91995585,\n",
       "        0.9230091 , 0.92606235, 0.9291156 , 0.93216884, 0.9352221 ,\n",
       "        0.93827534, 0.9413285 , 0.9443818 , 0.947435  , 0.95048827,\n",
       "        0.9535415 , 0.95659477, 0.959648  , 0.96270126, 0.9657545 ,\n",
       "        0.9688077 , 0.97186095, 0.9749142 , 0.97796744, 0.9810207 ,\n",
       "        0.98407394, 0.9871272 , 0.99018043, 0.9932337 , 0.9962869 ,\n",
       "        0.9993402 , 1.0023934 , 1.0054467 , 1.0084999 , 1.0115532 ,\n",
       "        1.0146064 ], dtype=float32),\n",
       " <BarContainer object of 60 artists>)"
      ]
     },
     "execution_count": 36,
     "metadata": {},
     "output_type": "execute_result"
    },
    {
     "data": {
      "image/png": "[encoded data removed]",
      "text/plain": [
       "<Figure size 432x288 with 1 Axes>"
      ]
     },
     "metadata": {
      "needs_background": "light"
     },
     "output_type": "display_data"
    }
   ],
   "source": [
    "plt.hist(y_predict_yagıssız ,bins=60)"
   ]
  },
  {
   "cell_type": "code",
   "execution_count": 37,
   "id": "1a4b77f8-b84c-471f-bc61-782b3dd80313",
   "metadata": {},
   "outputs": [
    {
     "data": {
      "text/html": [
       "<div>\n",
       "<style scoped>\n",
       "    .dataframe tbody tr th:only-of-type {\n",
       "        vertical-align: middle;\n",
       "    }\n",
       "\n",
       "    .dataframe tbody tr th {\n",
       "        vertical-align: top;\n",
       "    }\n",
       "\n",
       "    .dataframe thead th {\n",
       "        text-align: right;\n",
       "    }\n",
       "</style>\n",
       "<table border=\"1\" class=\"dataframe\">\n",
       "  <thead>\n",
       "    <tr style=\"text-align: right;\">\n",
       "      <th></th>\n",
       "      <th>0</th>\n",
       "    </tr>\n",
       "  </thead>\n",
       "  <tbody>\n",
       "    <tr>\n",
       "      <th>count</th>\n",
       "      <td>9750.000000</td>\n",
       "    </tr>\n",
       "    <tr>\n",
       "      <th>mean</th>\n",
       "      <td>0.966698</td>\n",
       "    </tr>\n",
       "    <tr>\n",
       "      <th>std</th>\n",
       "      <td>0.026158</td>\n",
       "    </tr>\n",
       "    <tr>\n",
       "      <th>min</th>\n",
       "      <td>0.851476</td>\n",
       "    </tr>\n",
       "    <tr>\n",
       "      <th>15%</th>\n",
       "      <td>0.944473</td>\n",
       "    </tr>\n",
       "    <tr>\n",
       "      <th>40%</th>\n",
       "      <td>0.971590</td>\n",
       "    </tr>\n",
       "    <tr>\n",
       "      <th>50%</th>\n",
       "      <td>0.973834</td>\n",
       "    </tr>\n",
       "    <tr>\n",
       "      <th>60%</th>\n",
       "      <td>0.975847</td>\n",
       "    </tr>\n",
       "    <tr>\n",
       "      <th>80%</th>\n",
       "      <td>0.982733</td>\n",
       "    </tr>\n",
       "    <tr>\n",
       "      <th>max</th>\n",
       "      <td>1.009841</td>\n",
       "    </tr>\n",
       "  </tbody>\n",
       "</table>\n",
       "</div>"
      ],
      "text/plain": [
       "                 0\n",
       "count  9750.000000\n",
       "mean      0.966698\n",
       "std       0.026158\n",
       "min       0.851476\n",
       "15%       0.944473\n",
       "40%       0.971590\n",
       "50%       0.973834\n",
       "60%       0.975847\n",
       "80%       0.982733\n",
       "max       1.009841"
      ]
     },
     "execution_count": 37,
     "metadata": {},
     "output_type": "execute_result"
    }
   ],
   "source": [
    "pred_yagıslı= pd.DataFrame(y_predict_yagıslı)\n",
    "\n",
    "pred_yagıslı.describe(percentiles=[0.15,0.40,0.60,0.80])"
   ]
  },
  {
   "cell_type": "code",
   "execution_count": 38,
   "id": "4e45656f-ef6b-4798-9993-0f78e9574a96",
   "metadata": {},
   "outputs": [],
   "source": [
    "import numpy as np\n",
    "pred_yagıslı['categorical'] = np.nan\n",
    "pred_yagıslı= pred_yagıslı.rename(columns={0:'YOGUNLUK'})"
   ]
  },
  {
   "cell_type": "code",
   "execution_count": 39,
   "id": "a4555412-c1d1-4caf-9e5a-90e2b5d61cb4",
   "metadata": {},
   "outputs": [],
   "source": [
    "def freq_cate(x):\n",
    "    if x < 0.93:\n",
    "        x = 'AZ_YOGUN'\n",
    "        \n",
    "    elif 0.93 <= x < 0.965:\n",
    "        x = 'YOGUN'\n",
    "        \n",
    "    elif 0.965 <= x < 0.98:\n",
    "        x = 'COK_YOGUN'\n",
    "    \n",
    "    elif x > 0.98:\n",
    "        x = 'DOLU'\n",
    "\n",
    "    return x  \n",
    "\n",
    "\n",
    "pred_yagıslı['categorical'] = pred_yagıslı['YOGUNLUK'].apply(lambda x : freq_cate(x))"
   ]
  },
  {
   "cell_type": "code",
   "execution_count": 40,
   "id": "404d53a0-28b3-4eb0-b815-706fbc079382",
   "metadata": {},
   "outputs": [
    {
     "data": {
      "text/html": [
       "<div>\n",
       "<style scoped>\n",
       "    .dataframe tbody tr th:only-of-type {\n",
       "        vertical-align: middle;\n",
       "    }\n",
       "\n",
       "    .dataframe tbody tr th {\n",
       "        vertical-align: top;\n",
       "    }\n",
       "\n",
       "    .dataframe thead th {\n",
       "        text-align: right;\n",
       "    }\n",
       "</style>\n",
       "<table border=\"1\" class=\"dataframe\">\n",
       "  <thead>\n",
       "    <tr style=\"text-align: right;\">\n",
       "      <th></th>\n",
       "      <th>YOGUNLUK</th>\n",
       "      <th>categorical</th>\n",
       "    </tr>\n",
       "  </thead>\n",
       "  <tbody>\n",
       "    <tr>\n",
       "      <th>0</th>\n",
       "      <td>0.969409</td>\n",
       "      <td>COK_YOGUN</td>\n",
       "    </tr>\n",
       "    <tr>\n",
       "      <th>1</th>\n",
       "      <td>0.964650</td>\n",
       "      <td>YOGUN</td>\n",
       "    </tr>\n",
       "    <tr>\n",
       "      <th>2</th>\n",
       "      <td>0.981727</td>\n",
       "      <td>DOLU</td>\n",
       "    </tr>\n",
       "    <tr>\n",
       "      <th>3</th>\n",
       "      <td>0.981983</td>\n",
       "      <td>DOLU</td>\n",
       "    </tr>\n",
       "    <tr>\n",
       "      <th>4</th>\n",
       "      <td>0.996155</td>\n",
       "      <td>DOLU</td>\n",
       "    </tr>\n",
       "    <tr>\n",
       "      <th>...</th>\n",
       "      <td>...</td>\n",
       "      <td>...</td>\n",
       "    </tr>\n",
       "    <tr>\n",
       "      <th>9745</th>\n",
       "      <td>0.972337</td>\n",
       "      <td>COK_YOGUN</td>\n",
       "    </tr>\n",
       "    <tr>\n",
       "      <th>9746</th>\n",
       "      <td>0.942598</td>\n",
       "      <td>YOGUN</td>\n",
       "    </tr>\n",
       "    <tr>\n",
       "      <th>9747</th>\n",
       "      <td>0.974901</td>\n",
       "      <td>COK_YOGUN</td>\n",
       "    </tr>\n",
       "    <tr>\n",
       "      <th>9748</th>\n",
       "      <td>0.970433</td>\n",
       "      <td>COK_YOGUN</td>\n",
       "    </tr>\n",
       "    <tr>\n",
       "      <th>9749</th>\n",
       "      <td>0.981391</td>\n",
       "      <td>DOLU</td>\n",
       "    </tr>\n",
       "  </tbody>\n",
       "</table>\n",
       "<p>9750 rows × 2 columns</p>\n",
       "</div>"
      ],
      "text/plain": [
       "      YOGUNLUK categorical\n",
       "0     0.969409   COK_YOGUN\n",
       "1     0.964650       YOGUN\n",
       "2     0.981727        DOLU\n",
       "3     0.981983        DOLU\n",
       "4     0.996155        DOLU\n",
       "...        ...         ...\n",
       "9745  0.972337   COK_YOGUN\n",
       "9746  0.942598       YOGUN\n",
       "9747  0.974901   COK_YOGUN\n",
       "9748  0.970433   COK_YOGUN\n",
       "9749  0.981391        DOLU\n",
       "\n",
       "[9750 rows x 2 columns]"
      ]
     },
     "execution_count": 40,
     "metadata": {},
     "output_type": "execute_result"
    }
   ],
   "source": [
    "pred_yagıslı"
   ]
  },
  {
   "cell_type": "code",
   "execution_count": 41,
   "id": "75120230-7800-4349-8288-27a8ec50349e",
   "metadata": {},
   "outputs": [],
   "source": [
    "data_yagıslı = X_test[X_test['SİDDETLİ YAGIS']==1.0]"
   ]
  },
  {
   "cell_type": "code",
   "execution_count": 42,
   "id": "2da3a48d-235c-4318-9c03-bd6b5a98ed0d",
   "metadata": {},
   "outputs": [
    {
     "data": {
      "text/html": [
       "<div>\n",
       "<style scoped>\n",
       "    .dataframe tbody tr th:only-of-type {\n",
       "        vertical-align: middle;\n",
       "    }\n",
       "\n",
       "    .dataframe tbody tr th {\n",
       "        vertical-align: top;\n",
       "    }\n",
       "\n",
       "    .dataframe thead th {\n",
       "        text-align: right;\n",
       "    }\n",
       "</style>\n",
       "<table border=\"1\" class=\"dataframe\">\n",
       "  <thead>\n",
       "    <tr style=\"text-align: right;\">\n",
       "      <th></th>\n",
       "      <th>0</th>\n",
       "    </tr>\n",
       "  </thead>\n",
       "  <tbody>\n",
       "    <tr>\n",
       "      <th>count</th>\n",
       "      <td>196142.000000</td>\n",
       "    </tr>\n",
       "    <tr>\n",
       "      <th>mean</th>\n",
       "      <td>0.973604</td>\n",
       "    </tr>\n",
       "    <tr>\n",
       "      <th>std</th>\n",
       "      <td>0.025116</td>\n",
       "    </tr>\n",
       "    <tr>\n",
       "      <th>min</th>\n",
       "      <td>0.831412</td>\n",
       "    </tr>\n",
       "    <tr>\n",
       "      <th>15%</th>\n",
       "      <td>0.955117</td>\n",
       "    </tr>\n",
       "    <tr>\n",
       "      <th>40%</th>\n",
       "      <td>0.973335</td>\n",
       "    </tr>\n",
       "    <tr>\n",
       "      <th>50%</th>\n",
       "      <td>0.977522</td>\n",
       "    </tr>\n",
       "    <tr>\n",
       "      <th>60%</th>\n",
       "      <td>0.983816</td>\n",
       "    </tr>\n",
       "    <tr>\n",
       "      <th>80%</th>\n",
       "      <td>0.992930</td>\n",
       "    </tr>\n",
       "    <tr>\n",
       "      <th>max</th>\n",
       "      <td>1.014606</td>\n",
       "    </tr>\n",
       "  </tbody>\n",
       "</table>\n",
       "</div>"
      ],
      "text/plain": [
       "                   0\n",
       "count  196142.000000\n",
       "mean        0.973604\n",
       "std         0.025116\n",
       "min         0.831412\n",
       "15%         0.955117\n",
       "40%         0.973335\n",
       "50%         0.977522\n",
       "60%         0.983816\n",
       "80%         0.992930\n",
       "max         1.014606"
      ]
     },
     "execution_count": 42,
     "metadata": {},
     "output_type": "execute_result"
    }
   ],
   "source": [
    "pred_yagıssız= pd.DataFrame(y_predict_yagıssız)\n",
    "\n",
    "pred_yagıssız.describe(percentiles=[0.15,0.40,0.60,0.80])\n"
   ]
  },
  {
   "cell_type": "code",
   "execution_count": 43,
   "id": "cf0d4680-1f68-4507-aa26-db5d7bffe0b7",
   "metadata": {},
   "outputs": [],
   "source": [
    "pred_yagıssız['categorical'] = np.nan\n",
    "pred_yagıssız= pred_yagıssız.rename(columns={0:'YOGUNLUK'})"
   ]
  },
  {
   "cell_type": "code",
   "execution_count": 44,
   "id": "af4a6a26-77b5-4137-bb21-82253aa9691d",
   "metadata": {},
   "outputs": [],
   "source": [
    "pred_yagıssız['categorical'] = pred_yagıssız['YOGUNLUK'].apply(lambda x : freq_cate(x))"
   ]
  },
  {
   "cell_type": "code",
   "execution_count": 45,
   "id": "f7ab3ffc-62f5-4190-b9d1-8f5607d2e58f",
   "metadata": {},
   "outputs": [],
   "source": [
    "data_yagıssız = X_test[X_test['YAGISSIZ']==1.0]"
   ]
  },
  {
   "cell_type": "code",
   "execution_count": 46,
   "id": "82ec06e6-e264-44d6-bc38-a0cdd44200b1",
   "metadata": {},
   "outputs": [
    {
     "data": {
      "text/html": [
       "<div>\n",
       "<style scoped>\n",
       "    .dataframe tbody tr th:only-of-type {\n",
       "        vertical-align: middle;\n",
       "    }\n",
       "\n",
       "    .dataframe tbody tr th {\n",
       "        vertical-align: top;\n",
       "    }\n",
       "\n",
       "    .dataframe thead th {\n",
       "        text-align: right;\n",
       "    }\n",
       "</style>\n",
       "<table border=\"1\" class=\"dataframe\">\n",
       "  <thead>\n",
       "    <tr style=\"text-align: right;\">\n",
       "      <th></th>\n",
       "      <th>YOGUNLUK</th>\n",
       "      <th>categorical</th>\n",
       "    </tr>\n",
       "  </thead>\n",
       "  <tbody>\n",
       "    <tr>\n",
       "      <th>0</th>\n",
       "      <td>0.988921</td>\n",
       "      <td>DOLU</td>\n",
       "    </tr>\n",
       "    <tr>\n",
       "      <th>1</th>\n",
       "      <td>0.969163</td>\n",
       "      <td>COK_YOGUN</td>\n",
       "    </tr>\n",
       "    <tr>\n",
       "      <th>2</th>\n",
       "      <td>0.958704</td>\n",
       "      <td>YOGUN</td>\n",
       "    </tr>\n",
       "    <tr>\n",
       "      <th>3</th>\n",
       "      <td>0.951567</td>\n",
       "      <td>YOGUN</td>\n",
       "    </tr>\n",
       "    <tr>\n",
       "      <th>4</th>\n",
       "      <td>0.992733</td>\n",
       "      <td>DOLU</td>\n",
       "    </tr>\n",
       "    <tr>\n",
       "      <th>...</th>\n",
       "      <td>...</td>\n",
       "      <td>...</td>\n",
       "    </tr>\n",
       "    <tr>\n",
       "      <th>196137</th>\n",
       "      <td>0.993452</td>\n",
       "      <td>DOLU</td>\n",
       "    </tr>\n",
       "    <tr>\n",
       "      <th>196138</th>\n",
       "      <td>0.968945</td>\n",
       "      <td>COK_YOGUN</td>\n",
       "    </tr>\n",
       "    <tr>\n",
       "      <th>196139</th>\n",
       "      <td>1.000768</td>\n",
       "      <td>DOLU</td>\n",
       "    </tr>\n",
       "    <tr>\n",
       "      <th>196140</th>\n",
       "      <td>0.948760</td>\n",
       "      <td>YOGUN</td>\n",
       "    </tr>\n",
       "    <tr>\n",
       "      <th>196141</th>\n",
       "      <td>1.000399</td>\n",
       "      <td>DOLU</td>\n",
       "    </tr>\n",
       "  </tbody>\n",
       "</table>\n",
       "<p>196142 rows × 2 columns</p>\n",
       "</div>"
      ],
      "text/plain": [
       "        YOGUNLUK categorical\n",
       "0       0.988921        DOLU\n",
       "1       0.969163   COK_YOGUN\n",
       "2       0.958704       YOGUN\n",
       "3       0.951567       YOGUN\n",
       "4       0.992733        DOLU\n",
       "...          ...         ...\n",
       "196137  0.993452        DOLU\n",
       "196138  0.968945   COK_YOGUN\n",
       "196139  1.000768        DOLU\n",
       "196140  0.948760       YOGUN\n",
       "196141  1.000399        DOLU\n",
       "\n",
       "[196142 rows x 2 columns]"
      ]
     },
     "execution_count": 46,
     "metadata": {},
     "output_type": "execute_result"
    }
   ],
   "source": [
    "pred_yagıssız"
   ]
  },
  {
   "cell_type": "code",
   "execution_count": 63,
   "id": "cedf9831-3217-44f5-965b-c31eddac5bdd",
   "metadata": {},
   "outputs": [],
   "source": [
    "traffic_yagıssız= pd.concat([data_yagıssız.reset_index(drop=True),pred_yagıssız], axis = 1)"
   ]
  },
  {
   "cell_type": "code",
   "execution_count": 64,
   "id": "91670087-f165-435b-b0c0-619168c5b5b7",
   "metadata": {},
   "outputs": [],
   "source": [
    "traffic_yagıslı= pd.concat([data_yagıslı.reset_index(drop=True),pred_yagıslı], axis = 1)"
   ]
  },
  {
   "cell_type": "code",
   "execution_count": 65,
   "id": "d30f4d3c-0423-4454-af7b-3eb8f1dcf90e",
   "metadata": {},
   "outputs": [],
   "source": [
    "from sklearn.metrics import mean_squared_error\n",
    "import tensorflow as tf\n",
    "from sklearn.preprocessing import LabelEncoder\n",
    "from sklearn.linear_model import LinearRegression\n",
    "\n",
    "def traffic(data):\n",
    "    data.drop(['YOGUNLUK'],axis=1,inplace=True)\n",
    "    Y = data.iloc[:,-2:-1]\n",
    "    data.drop(['NUMBER_OF_VEHICLES'],axis=1 , inplace=True)\n",
    "   \n",
    "    labelencoder = LabelEncoder()\n",
    "    \n",
    "    data['categorical'] = labelencoder.fit_transform(data['categorical'])\n",
    "    data.rename(columns={\"categorical\": \"density_categorical\"}, inplace=True)\n",
    "\n",
    "\n",
    "    X_train, X_test, Y_train, Y_test = train_test_split(data, Y,  test_size=0.2, random_state=7)\n",
    "    \n",
    "   \n",
    "    model = LinearRegression()\n",
    "    model.fit(X_train, Y_train)\n",
    "    \n",
    "    y_pred = model.predict(X_test)\n",
    "    \n",
    "    \n",
    "    print(\"Test  R^2 Score : \", model.score(X_test, Y_test))\n",
    "    print(\"Train R^2 Score : \", model.score(X_train, Y_train))\n",
    "    "
   ]
  },
  {
   "cell_type": "code",
   "execution_count": 66,
   "id": "bf4d13f0-5a01-4e43-8f59-58c98a173491",
   "metadata": {},
   "outputs": [
    {
     "name": "stdout",
     "output_type": "stream",
     "text": [
      "Test  R^2 Score :  0.060321166366720136\n",
      "Train R^2 Score :  0.05997023495050924\n"
     ]
    }
   ],
   "source": [
    "traffic(traffic_yagıssız)"
   ]
  },
  {
   "cell_type": "code",
   "execution_count": 67,
   "id": "1b8d3a71-f227-4779-945a-28c411429c97",
   "metadata": {},
   "outputs": [
    {
     "name": "stdout",
     "output_type": "stream",
     "text": [
      "Test  R^2 Score :  0.06706117134342604\n",
      "Train R^2 Score :  0.09139444788975337\n"
     ]
    }
   ],
   "source": [
    "traffic(traffic_yagıslı)"
   ]
  },
  {
   "cell_type": "code",
   "execution_count": null,
   "id": "52d570cf-acaf-41e5-814c-9a9975e0744f",
   "metadata": {},
   "outputs": [],
   "source": []
  }
 ],
 "metadata": {
  "kernelspec": {
   "display_name": "Python 3",
   "language": "python",
   "name": "python3"
  },
  "language_info": {
   "codemirror_mode": {
    "name": "ipython",
    "version": 3
   },
   "file_extension": ".py",
   "mimetype": "text/x-python",
   "name": "python",
   "nbconvert_exporter": "python",
   "pygments_lexer": "ipython3",
   "version": "3.8.8"
  }
 },
 "nbformat": 4,
 "nbformat_minor": 5
}
